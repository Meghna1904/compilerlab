{
  "nbformat": 4,
  "nbformat_minor": 0,
  "metadata": {
    "colab": {
      "provenance": [],
      "include_colab_link": true
    },
    "kernelspec": {
      "name": "python3",
      "display_name": "Python 3"
    },
    "language_info": {
      "name": "python"
    }
  },
  "cells": [
    {
      "cell_type": "markdown",
      "metadata": {
        "id": "view-in-github",
        "colab_type": "text"
      },
      "source": [
        "<a href=\"https://colab.research.google.com/github/Meghna1904/compilerlab/blob/main/LEX_and_YACC_Compiler.ipynb\" target=\"_parent\"><img src=\"https://colab.research.google.com/assets/colab-badge.svg\" alt=\"Open In Colab\"/></a>"
      ]
    },
    {
      "cell_type": "markdown",
      "source": [
        "# LEX and YACC Compiler in Colab\n",
        "\n",
        "Drawbacks:\n",
        "* Regular interrupts (Ctrl+D, Ctrl+C) for shell won't work in Colab while inputting for program.\n",
        "<br>Workaround: Store your inputs in a txt file and pass it to the program."
      ],
      "metadata": {
        "id": "Az09-x9PnHPq"
      }
    },
    {
      "cell_type": "code",
      "source": [
        "#@title Install *prerqeuisites* (run this cell first to work on LEX/YACC)\n",
        "!sudo apt install flex bison"
      ],
      "metadata": {
        "cellView": "form",
        "id": "CM_9N3RogX8y",
        "colab": {
          "base_uri": "https://localhost:8080/"
        },
        "outputId": "31d80858-91a0-4b94-ff70-a0445bee2986"
      },
      "execution_count": null,
      "outputs": [
        {
          "output_type": "stream",
          "name": "stdout",
          "text": [
            "Reading package lists... Done\n",
            "Building dependency tree... Done\n",
            "Reading state information... Done\n",
            "The following additional packages will be installed:\n",
            "  libfl-dev libfl2\n",
            "Suggested packages:\n",
            "  bison-doc flex-doc\n",
            "The following NEW packages will be installed:\n",
            "  bison flex libfl-dev libfl2\n",
            "0 upgraded, 4 newly installed, 0 to remove and 38 not upgraded.\n",
            "Need to get 1,072 kB of archives.\n",
            "After this operation, 3,667 kB of additional disk space will be used.\n",
            "Get:1 http://archive.ubuntu.com/ubuntu jammy/main amd64 flex amd64 2.6.4-8build2 [307 kB]\n",
            "Get:2 http://archive.ubuntu.com/ubuntu jammy/main amd64 bison amd64 2:3.8.2+dfsg-1build1 [748 kB]\n",
            "Get:3 http://archive.ubuntu.com/ubuntu jammy/main amd64 libfl2 amd64 2.6.4-8build2 [10.7 kB]\n",
            "Get:4 http://archive.ubuntu.com/ubuntu jammy/main amd64 libfl-dev amd64 2.6.4-8build2 [6,236 B]\n",
            "Fetched 1,072 kB in 0s (3,391 kB/s)\n",
            "debconf: unable to initialize frontend: Dialog\n",
            "debconf: (No usable dialog-like program is installed, so the dialog based frontend cannot be used. at /usr/share/perl5/Debconf/FrontEnd/Dialog.pm line 78, <> line 4.)\n",
            "debconf: falling back to frontend: Readline\n",
            "debconf: unable to initialize frontend: Readline\n",
            "debconf: (This frontend requires a controlling tty.)\n",
            "debconf: falling back to frontend: Teletype\n",
            "dpkg-preconfigure: unable to re-open stdin: \n",
            "Selecting previously unselected package flex.\n",
            "(Reading database ... 126718 files and directories currently installed.)\n",
            "Preparing to unpack .../flex_2.6.4-8build2_amd64.deb ...\n",
            "Unpacking flex (2.6.4-8build2) ...\n",
            "Selecting previously unselected package bison.\n",
            "Preparing to unpack .../bison_2%3a3.8.2+dfsg-1build1_amd64.deb ...\n",
            "Unpacking bison (2:3.8.2+dfsg-1build1) ...\n",
            "Selecting previously unselected package libfl2:amd64.\n",
            "Preparing to unpack .../libfl2_2.6.4-8build2_amd64.deb ...\n",
            "Unpacking libfl2:amd64 (2.6.4-8build2) ...\n",
            "Selecting previously unselected package libfl-dev:amd64.\n",
            "Preparing to unpack .../libfl-dev_2.6.4-8build2_amd64.deb ...\n",
            "Unpacking libfl-dev:amd64 (2.6.4-8build2) ...\n",
            "Setting up flex (2.6.4-8build2) ...\n",
            "Setting up libfl2:amd64 (2.6.4-8build2) ...\n",
            "Setting up bison (2:3.8.2+dfsg-1build1) ...\n",
            "update-alternatives: using /usr/bin/bison.yacc to provide /usr/bin/yacc (yacc) in auto mode\n",
            "Setting up libfl-dev:amd64 (2.6.4-8build2) ...\n",
            "Processing triggers for man-db (2.10.2-1) ...\n",
            "Processing triggers for libc-bin (2.35-0ubuntu3.8) ...\n",
            "/sbin/ldconfig.real: /usr/local/lib/libtcm.so.1 is not a symbolic link\n",
            "\n",
            "/sbin/ldconfig.real: /usr/local/lib/libtbb.so.12 is not a symbolic link\n",
            "\n",
            "/sbin/ldconfig.real: /usr/local/lib/libumf.so.0 is not a symbolic link\n",
            "\n",
            "/sbin/ldconfig.real: /usr/local/lib/libur_adapter_level_zero.so.0 is not a symbolic link\n",
            "\n",
            "/sbin/ldconfig.real: /usr/local/lib/libtbbmalloc_proxy.so.2 is not a symbolic link\n",
            "\n",
            "/sbin/ldconfig.real: /usr/local/lib/libtbbmalloc.so.2 is not a symbolic link\n",
            "\n",
            "/sbin/ldconfig.real: /usr/local/lib/libur_adapter_opencl.so.0 is not a symbolic link\n",
            "\n",
            "/sbin/ldconfig.real: /usr/local/lib/libtbbbind_2_0.so.3 is not a symbolic link\n",
            "\n",
            "/sbin/ldconfig.real: /usr/local/lib/libhwloc.so.15 is not a symbolic link\n",
            "\n",
            "/sbin/ldconfig.real: /usr/local/lib/libur_loader.so.0 is not a symbolic link\n",
            "\n",
            "/sbin/ldconfig.real: /usr/local/lib/libur_adapter_level_zero_v2.so.0 is not a symbolic link\n",
            "\n",
            "/sbin/ldconfig.real: /usr/local/lib/libtbbbind_2_5.so.3 is not a symbolic link\n",
            "\n",
            "/sbin/ldconfig.real: /usr/local/lib/libtcm_debug.so.1 is not a symbolic link\n",
            "\n",
            "/sbin/ldconfig.real: /usr/local/lib/libtbbbind.so.3 is not a symbolic link\n",
            "\n"
          ]
        }
      ]
    },
    {
      "cell_type": "markdown",
      "source": [
        "## Lex only"
      ],
      "metadata": {
        "id": "0IYbRG4He38g"
      }
    },
    {
      "cell_type": "code",
      "execution_count": null,
      "metadata": {
        "colab": {
          "base_uri": "https://localhost:8080/"
        },
        "id": "Jyt0i_pTexWf",
        "outputId": "38bf92d9-5dd3-421e-cb0f-1c3d36126957"
      },
      "outputs": [
        {
          "output_type": "stream",
          "name": "stdout",
          "text": [
            "Writing program.l\n"
          ]
        }
      ],
      "source": [
        "#@title Writing Lex program\n",
        "%%writefile program.l\n",
        "\n",
        "%{\n",
        "    #include <stdio.h>\n",
        "    int ctChar=0;\n",
        "    int ctSpace=0;\n",
        "    int ctWord=0;\n",
        "    int ctLine=0;\n",
        "%}\n",
        "WORD [^ \\t\\n,\\.:]+\n",
        "EOL [\\n]\n",
        "BLANK [ ]\n",
        "%%\n",
        "\n",
        "{WORD} {ctWord++; ctChar+=yyleng;}\n",
        "{BLANK} {ctSpace++;}\n",
        "{EOL} {ctLine++;}\n",
        ". {ctChar++;}\n",
        "%%\n",
        "\n",
        "void main(int argc, char *argv[]){\n",
        "    if(argc!=2){\n",
        "        printf(\"Usage:\\n\\t./a.out <FILENAME>\\n\");\n",
        "        exit(0);\n",
        "    }\n",
        "\n",
        "    yyin=fopen(argv[1],\"r\");\n",
        "    yylex();\n",
        "\n",
        "    printf(\"Word Count: %d\\n\",ctWord);\n",
        "    printf(\"Character Count: %d\\n\",ctChar);\n",
        "    printf(\"Space Count: %d\\n\",ctSpace);\n",
        "    printf(\"Line Count: %d\\n\",ctLine);\n",
        "    fclose(yyin);\n",
        "\n",
        "}\n",
        "\n",
        "int yywrap(){\n",
        "    return 1;\n",
        "}"
      ]
    },
    {
      "cell_type": "markdown",
      "source": [
        "if you want to use at txt as an input"
      ],
      "metadata": {
        "id": "erI5UjQzg3Sy"
      }
    },
    {
      "cell_type": "code",
      "source": [
        "%%writefile program.txt\n",
        "\n",
        "This is a sample file."
      ],
      "metadata": {
        "colab": {
          "base_uri": "https://localhost:8080/"
        },
        "id": "MUUdcBtRgtjf",
        "outputId": "027284df-b552-4daa-9b7c-160bbeb68e0a"
      },
      "execution_count": null,
      "outputs": [
        {
          "output_type": "stream",
          "name": "stdout",
          "text": [
            "Writing program.txt\n"
          ]
        }
      ]
    },
    {
      "cell_type": "code",
      "source": [
        "#@title Shell Execution (you can rewrite the commands as per your need, eg. if you want to include a file as an input)\n",
        "%%shell\n",
        "\n",
        "lex -l program.l\n",
        "gcc lex.yy.c\n",
        "./a.out program.txt"
      ],
      "metadata": {
        "colab": {
          "base_uri": "https://localhost:8080/"
        },
        "id": "tqpZgNYpe263",
        "outputId": "0f051b4c-5200-495d-e94c-8e1771bc2631"
      },
      "execution_count": null,
      "outputs": [
        {
          "output_type": "stream",
          "name": "stdout",
          "text": [
            "Word Count: 5\n",
            "Character Count: 18\n",
            "Space Count: 4\n",
            "Line Count: 2\n"
          ]
        },
        {
          "output_type": "execute_result",
          "data": {
            "text/plain": []
          },
          "metadata": {},
          "execution_count": 12
        }
      ]
    },
    {
      "cell_type": "markdown",
      "source": [
        "## Lex and Yacc combined"
      ],
      "metadata": {
        "id": "9g3qzHuCe9s1"
      }
    },
    {
      "cell_type": "code",
      "source": [
        "#@title Writing YACC program\n",
        "%%writefile program.y\n",
        "\n",
        "%{\n",
        "    #include<stdio.h>\n",
        "    #include<stdlib.h>\n",
        "%}\n",
        "%token DIGIT LETTER UND NL\n",
        "%%\n",
        "stmt: variable NL {printf(\"Valid Identifier\\n\");exit(0);}\n",
        "variable: LETTER alphanumeric;\n",
        "alphanumeric: LETTER alphanumeric\n",
        "            | DIGIT alphanumeric\n",
        "            | UND alphanumeric\n",
        "            | LETTER\n",
        "            | DIGIT\n",
        "            | UND;\n",
        "%%\n",
        "\n",
        "int yyerror(){\n",
        "    printf(\"Invalid Identifier\\n\");\n",
        "    exit(0);\n",
        "}\n",
        "\n",
        "void main(){\n",
        "    printf(\"Enter the variable name: \");\n",
        "    yyparse();\n",
        "}"
      ],
      "metadata": {
        "colab": {
          "base_uri": "https://localhost:8080/"
        },
        "id": "PR_WVl_3kvjz",
        "outputId": "f33a8f54-f1a7-467d-9996-2b094b014574"
      },
      "execution_count": null,
      "outputs": [
        {
          "output_type": "stream",
          "name": "stdout",
          "text": [
            "Overwriting program.y\n"
          ]
        }
      ]
    },
    {
      "cell_type": "code",
      "execution_count": null,
      "metadata": {
        "colab": {
          "base_uri": "https://localhost:8080/"
        },
        "outputId": "a7d85dec-a2ef-4975-d87e-6ab97b8ed2c9",
        "id": "d_jqt4ajkllz"
      },
      "outputs": [
        {
          "output_type": "stream",
          "name": "stdout",
          "text": [
            "Overwriting program.l\n"
          ]
        }
      ],
      "source": [
        "#@title Writing Lex program\n",
        "%%writefile program.l\n",
        "\n",
        "%{\n",
        "    #include \"y.tab.h\"\n",
        "%}\n",
        "%%\n",
        "[a-zA-Z] {return LETTER;}\n",
        "[0-9] {return DIGIT;}\n",
        "[_] {return UND;}\n",
        "\\n {return NL;}\n",
        ". {return yytext[0];}\n",
        "%%"
      ]
    },
    {
      "cell_type": "markdown",
      "source": [
        "if you want to use at txt as an input"
      ],
      "metadata": {
        "id": "b0o39e7Ykll3"
      }
    },
    {
      "cell_type": "code",
      "source": [
        "%%writefile program.txt\n",
        "\n",
        "This is a sample file."
      ],
      "metadata": {
        "id": "vna5Qg34kll4"
      },
      "execution_count": null,
      "outputs": []
    },
    {
      "cell_type": "code",
      "source": [],
      "metadata": {
        "id": "OgeWefuIFSS3"
      },
      "execution_count": null,
      "outputs": []
    },
    {
      "cell_type": "code",
      "source": [
        "m"
      ],
      "metadata": {
        "id": "CEG56rXRIWcB"
      },
      "execution_count": null,
      "outputs": []
    },
    {
      "cell_type": "code",
      "source": [
        "#@title Shell Execution (you can rewrite the commands as per your need, eg. if you want to include a file as an input)\n",
        "%%shell\n",
        "\n",
        "yacc -d program.y\n",
        "lex program.l\n",
        "cc y.tab.c lex.yy.c -ll\n",
        "./a.out"
      ],
      "metadata": {
        "colab": {
          "base_uri": "https://localhost:8080/"
        },
        "outputId": "ff3a4379-0014-4494-fc4b-ae526a849a4a",
        "id": "nqs9Nq64kll4"
      },
      "execution_count": null,
      "outputs": [
        {
          "output_type": "stream",
          "name": "stdout",
          "text": [
            "\u001b[01m\u001b[Ky.tab.c:\u001b[m\u001b[K In function ‘\u001b[01m\u001b[Kyyparse\u001b[m\u001b[K’:\n",
            "\u001b[01m\u001b[Ky.tab.c:1024:16:\u001b[m\u001b[K \u001b[01;35m\u001b[Kwarning: \u001b[m\u001b[Kimplicit declaration of function ‘\u001b[01m\u001b[Kyylex\u001b[m\u001b[K’ [\u001b[01;35m\u001b[K\u001b]8;;https://gcc.gnu.org/onlinedocs/gcc/Warning-Options.html#index-Wimplicit-function-declaration\u0007-Wimplicit-function-declaration\u001b]8;;\u0007\u001b[m\u001b[K]\n",
            " 1024 |       yychar = \u001b[01;35m\u001b[Kyylex\u001b[m\u001b[K ();\n",
            "      |                \u001b[01;35m\u001b[K^~~~~\u001b[m\u001b[K\n",
            "\u001b[01m\u001b[Ky.tab.c:1165:7:\u001b[m\u001b[K \u001b[01;35m\u001b[Kwarning: \u001b[m\u001b[Kimplicit declaration of function ‘\u001b[01m\u001b[Kyyerror\u001b[m\u001b[K’; did you mean ‘\u001b[01m\u001b[Kyyerrok\u001b[m\u001b[K’? [\u001b[01;35m\u001b[K\u001b]8;;https://gcc.gnu.org/onlinedocs/gcc/Warning-Options.html#index-Wimplicit-function-declaration\u0007-Wimplicit-function-declaration\u001b]8;;\u0007\u001b[m\u001b[K]\n",
            " 1165 |       \u001b[01;35m\u001b[Kyyerror\u001b[m\u001b[K (YY_(\"syntax error\"));\n",
            "      |       \u001b[01;35m\u001b[K^~~~~~~\u001b[m\u001b[K\n",
            "      |       \u001b[32m\u001b[Kyyerrok\u001b[m\u001b[K\n",
            "Enter the variable name: name\n",
            "Valid Identifier\n"
          ]
        },
        {
          "output_type": "execute_result",
          "data": {
            "text/plain": []
          },
          "metadata": {},
          "execution_count": 27
        }
      ]
    },
    {
      "cell_type": "code",
      "source": [
        "%%writefile program1.l\n",
        "%{\n",
        "    #include \"y.tab.h\"\n",
        "%}\n",
        "%%\n",
        "\"a\"     { return A; }\n",
        "\"b\"     { return B; }\n",
        "\\n      { return NL; }\n",
        ".       { return yytext[0]; }\n",
        "%%\n",
        "int yywrap() { return 1; }"
      ],
      "metadata": {
        "colab": {
          "base_uri": "https://localhost:8080/"
        },
        "id": "GZmeYCBcCe47",
        "outputId": "c0f95b65-9b8b-4ef1-9622-6e07aa3c68e7"
      },
      "execution_count": null,
      "outputs": [
        {
          "output_type": "stream",
          "name": "stdout",
          "text": [
            "Overwriting program1.l\n"
          ]
        }
      ]
    },
    {
      "cell_type": "code",
      "source": [
        "%%writefile program1.y\n",
        "\n",
        "%{\n",
        "#include <stdio.h>\n",
        "#include <stdlib.h>\n",
        "int yylex(void);\n",
        "void yyerror(char *s);\n",
        "%}\n",
        "%token A B NL\n",
        "%%\n",
        "stmt: S NL { printf(\"Valid string\\n\"); exit(0); };\n",
        "S   : A S | B S | A B B;\n",
        "%%\n",
        "void yyerror(char *s) { printf(\"Invalid string\\n\"); exit(0); }\n",
        "int main() { printf(\"Enter string: \"); yyparse(); return 0; }"
      ],
      "metadata": {
        "colab": {
          "base_uri": "https://localhost:8080/"
        },
        "id": "T86wgTtPEDoM",
        "outputId": "153a0eaa-246b-4679-83f4-06ab9da74742"
      },
      "execution_count": null,
      "outputs": [
        {
          "output_type": "stream",
          "name": "stdout",
          "text": [
            "Writing program1.y\n"
          ]
        }
      ]
    },
    {
      "cell_type": "code",
      "source": [],
      "metadata": {
        "id": "gj_DoRaLhACv"
      },
      "execution_count": null,
      "outputs": []
    },
    {
      "cell_type": "code",
      "source": [],
      "metadata": {
        "id": "NM70_T-FhAiY"
      },
      "execution_count": null,
      "outputs": []
    },
    {
      "cell_type": "code",
      "source": [
        "%%shell\n",
        "yacc -d program1.y\n",
        "lex program1.l\n",
        "cc y.tab.c lex.yy.c -ll\n",
        "./a.out"
      ],
      "metadata": {
        "colab": {
          "base_uri": "https://localhost:8080/"
        },
        "id": "kjEVUWoUEZyJ",
        "outputId": "3ca123c3-8683-428e-9a51-9430db7c059f"
      },
      "execution_count": null,
      "outputs": [
        {
          "output_type": "stream",
          "name": "stdout",
          "text": [
            "Enter string: abb\n",
            "Valid string\n"
          ]
        },
        {
          "output_type": "execute_result",
          "data": {
            "text/plain": []
          },
          "metadata": {},
          "execution_count": 15
        }
      ]
    },
    {
      "cell_type": "code",
      "source": [
        "%%writefile program2.l\n",
        "\n",
        "%{\n",
        "  #include <stdio.h>\n",
        "  #include <stdlib.h>\n",
        "%}\n",
        "\n",
        "%%\n",
        "\"//\"(.*)  {}\n",
        "\"/*\"(.|\\n)*?\"*/\" {}\n",
        ". {ECHO;}\n",
        "%%\n",
        "\n",
        "int yywrap() {return 1;}\n",
        "\n",
        "int main() {\n",
        "  yylex();\n",
        "}"
      ],
      "metadata": {
        "colab": {
          "base_uri": "https://localhost:8080/"
        },
        "id": "UlBCLR5xEcJ7",
        "outputId": "c786a6dd-1707-403a-bd1c-922a2ee4481e"
      },
      "execution_count": null,
      "outputs": [
        {
          "output_type": "stream",
          "name": "stdout",
          "text": [
            "Overwriting program2.l\n"
          ]
        }
      ]
    },
    {
      "cell_type": "code",
      "source": [],
      "metadata": {
        "id": "DizgjZVVqLqh"
      },
      "execution_count": null,
      "outputs": []
    },
    {
      "cell_type": "code",
      "source": [
        "%%writefile program2.c\n",
        "int main(){\n",
        "  //This is program\n",
        "  printf(\"My name is Meh\");\n",
        "  /*helo\n",
        "  hy*/\n",
        "}"
      ],
      "metadata": {
        "colab": {
          "base_uri": "https://localhost:8080/"
        },
        "id": "z44x-X_Zgbix",
        "outputId": "fa67b03a-6985-4a0f-81d9-6c6e263ac439"
      },
      "execution_count": null,
      "outputs": [
        {
          "output_type": "stream",
          "name": "stdout",
          "text": [
            "Overwriting program2.c\n"
          ]
        }
      ]
    },
    {
      "cell_type": "code",
      "source": [
        "%%writefile count.l\n",
        "%{\n",
        "#include <stdio.h>\n",
        "#include <stdlib.h>\n",
        "int chars=0,lines=0,words=0,sent=0;\n",
        "%}\n",
        "\n",
        "%%\n",
        "[.!?] {sent++;}\n",
        "[^ \\t\\n]+ {words++; chars+=yyleng;}\n",
        "\\n {lines++;}\n",
        ". {chars++;}\n",
        "%%\n",
        "\n",
        "int yywrap(){return 1;}\n",
        "\n",
        "int main(){\n",
        "    yylex();\n",
        "    printf(\"Count of words : %d\", words );\n",
        "    printf(\"Count of lines : %d\", lines );\n",
        "    printf(\"Count of character : %d\", chars );\n",
        "    printf(\"Count of sentences : %d\", sent );\n",
        "}"
      ],
      "metadata": {
        "colab": {
          "base_uri": "https://localhost:8080/"
        },
        "id": "tsVQ955Cz-LT",
        "outputId": "78e57f1a-3143-4d6f-f357-6acf7444951c"
      },
      "execution_count": null,
      "outputs": [
        {
          "output_type": "stream",
          "name": "stdout",
          "text": [
            "Overwriting count.l\n"
          ]
        }
      ]
    },
    {
      "cell_type": "code",
      "source": [
        "%%writefile count.txt\n",
        "meghna"
      ],
      "metadata": {
        "colab": {
          "base_uri": "https://localhost:8080/"
        },
        "id": "nCvi9kra0_8p",
        "outputId": "5d26fea4-b4f2-44b7-dc5e-1ae8d8a9837b"
      },
      "execution_count": null,
      "outputs": [
        {
          "output_type": "stream",
          "name": "stdout",
          "text": [
            "Overwriting count.txt\n"
          ]
        }
      ]
    },
    {
      "cell_type": "code",
      "source": [
        "%%shell\n",
        "\n",
        "lex count.l\n",
        "gcc lex.yy.c\n",
        "./a.out < count.txt"
      ],
      "metadata": {
        "colab": {
          "base_uri": "https://localhost:8080/"
        },
        "id": "RyW8EXbIgIqd",
        "outputId": "3b30e0c6-4028-481d-c5c2-43e9de322c9b"
      },
      "execution_count": null,
      "outputs": [
        {
          "output_type": "stream",
          "name": "stdout",
          "text": [
            "Count of words : 6Count of lines : 3Count of character : 23Count of sentences : 1"
          ]
        },
        {
          "output_type": "execute_result",
          "data": {
            "text/plain": []
          },
          "metadata": {},
          "execution_count": 69
        }
      ]
    },
    {
      "cell_type": "markdown",
      "source": [
        "LEX PRACTICE\n",
        "\n",
        "\n",
        "\n",
        "\n",
        "> Add blockquote\n",
        "\n"
      ],
      "metadata": {
        "id": "3vZ9gLU3_Zfz"
      }
    },
    {
      "cell_type": "markdown",
      "source": [
        "\n",
        "\n",
        "```\n",
        "# This is formatted as code\n",
        "```\n",
        "\n",
        "# Lex program\n"
      ],
      "metadata": {
        "id": "iZtDbI7ITft8"
      }
    },
    {
      "cell_type": "markdown",
      "source": [
        "# vowel consonants"
      ],
      "metadata": {
        "id": "HMpQRCxwVa_2"
      }
    },
    {
      "cell_type": "code",
      "source": [
        "%%writefile vowel.l\n",
        "%{\n",
        "#include <stdio.h>\n",
        "int vowel=0,cons=0;\n",
        "%}\n",
        "\n",
        "%%\n",
        "[aeiouAEIOU] {vowel++;}\n",
        "[a-zA-Z] {cons++;}\n",
        "%%\n",
        "\n",
        "int yywrap(){return 1;}\n",
        "\n",
        "int main(){\n",
        "  yylex();\n",
        "  printf(\"Vowel Count = : %d\\n\",vowel);\n",
        "  printf(\"Consonants Count = : %d\\n\",cons);\n",
        "}"
      ],
      "metadata": {
        "colab": {
          "base_uri": "https://localhost:8080/"
        },
        "id": "Uav9iWF1_fDZ",
        "outputId": "5747dacd-3ad1-4d41-dfaf-5feb1031c2fb"
      },
      "execution_count": null,
      "outputs": [
        {
          "output_type": "stream",
          "name": "stdout",
          "text": [
            "Writing vowel.l\n"
          ]
        }
      ]
    },
    {
      "cell_type": "code",
      "source": [
        "%%shell\n",
        "\n",
        "lex vowel.l\n",
        "gcc lex.yy.c\n",
        "./a.out < count.txt"
      ],
      "metadata": {
        "colab": {
          "base_uri": "https://localhost:8080/"
        },
        "id": "qYzU630dSaOn",
        "outputId": "d34de9b8-49d7-4aec-8250-a9e32685f6ec"
      },
      "execution_count": null,
      "outputs": [
        {
          "output_type": "stream",
          "name": "stdout",
          "text": [
            "\n",
            "Vowel Count = : 2\n",
            "Consonants Count = : 4\n"
          ]
        },
        {
          "output_type": "execute_result",
          "data": {
            "text/plain": []
          },
          "metadata": {},
          "execution_count": 9
        }
      ]
    },
    {
      "cell_type": "markdown",
      "source": [
        "# frequency of characters\n"
      ],
      "metadata": {
        "id": "2Y2DIXooTzmO"
      }
    },
    {
      "cell_type": "code",
      "source": [
        "%%writefile frequency.l\n",
        "%{\n",
        "    #include <stdio.h>\n",
        "    int freq[256] ={0};\n",
        "%}\n",
        "\n",
        "%%\n",
        ". {freq[yytext[0]]++;}\n",
        "\\n {}\n",
        "%%\n",
        "\n",
        "int yywrap(){return 1;}\n",
        "int main(){\n",
        "  yylex();\n",
        "  for(int i=0;i<256;i++){\n",
        "    if(freq[i]>0){\n",
        "      printf(\"%c : %d\\n\",i,freq[i]);\n",
        "    }\n",
        "\n",
        "  }\n",
        "  return 0;\n",
        "}"
      ],
      "metadata": {
        "colab": {
          "base_uri": "https://localhost:8080/"
        },
        "id": "qv1L44vpTmbL",
        "outputId": "9b8118fa-1291-49fd-ea37-1d3a3688987f"
      },
      "execution_count": null,
      "outputs": [
        {
          "output_type": "stream",
          "name": "stdout",
          "text": [
            "Overwriting frequency.l\n"
          ]
        }
      ]
    },
    {
      "cell_type": "code",
      "source": [
        "%%shell\n",
        "lex frequency.l\n",
        "gcc lex.yy.c\n",
        "./a.out < count.txt"
      ],
      "metadata": {
        "colab": {
          "base_uri": "https://localhost:8080/"
        },
        "id": "spy3Tc0FZ9jF",
        "outputId": "8097f863-1b88-49a5-c61a-2b435b6840e9"
      },
      "execution_count": null,
      "outputs": [
        {
          "output_type": "stream",
          "name": "stdout",
          "text": [
            "a : 1\n",
            "e : 1\n",
            "g : 1\n",
            "h : 1\n",
            "m : 1\n",
            "n : 1\n"
          ]
        },
        {
          "output_type": "execute_result",
          "data": {
            "text/plain": []
          },
          "metadata": {},
          "execution_count": 9
        }
      ]
    },
    {
      "cell_type": "markdown",
      "source": [
        "#Convert substring abc to ABC"
      ],
      "metadata": {
        "id": "zBV8bazEb6mn"
      }
    },
    {
      "cell_type": "code",
      "source": [
        "%%writefile substring.l\n",
        "%{\n",
        "    #include <stdio.h>\n",
        "\n",
        "%}\n",
        "\n",
        "%%\n",
        "\"abc\" {printf(\"ABC\");}\n",
        ".|\\n  {ECHO;}\n",
        "%%\n",
        "\n",
        "int yywrap(){return 1;}\n",
        "\n",
        "int main(){\n",
        "  printf(\"Enter the string \");\n",
        "  yylex();\n",
        "  return 0;\n",
        "\n",
        "}"
      ],
      "metadata": {
        "colab": {
          "base_uri": "https://localhost:8080/"
        },
        "id": "77Ws9fnpa22P",
        "outputId": "283d4a95-46a2-4226-d7be-e70855759837"
      },
      "execution_count": null,
      "outputs": [
        {
          "output_type": "stream",
          "name": "stdout",
          "text": [
            "Writing substring.l\n"
          ]
        }
      ]
    },
    {
      "cell_type": "code",
      "source": [
        "%%shell\n",
        "lex substring.l\n",
        "gcc lex.yy.c\n",
        "./a.out"
      ],
      "metadata": {
        "colab": {
          "base_uri": "https://localhost:8080/",
          "height": 391
        },
        "id": "mGxNOs0yg284",
        "outputId": "2812b73d-ea3d-450a-8595-adde99491168"
      },
      "execution_count": null,
      "outputs": [
        {
          "output_type": "stream",
          "name": "stdout",
          "text": [
            "Enter the string abc is happy.\n",
            "ABC is happy.\n"
          ]
        },
        {
          "output_type": "error",
          "ename": "CalledProcessError",
          "evalue": "Command 'lex substring.l\ngcc lex.yy.c\n./a.out\n' died with <Signals.SIGINT: 2>.",
          "traceback": [
            "\u001b[0;31m---------------------------------------------------------------------------\u001b[0m",
            "\u001b[0;31mCalledProcessError\u001b[0m                        Traceback (most recent call last)",
            "\u001b[0;32m/tmp/ipython-input-3063144778.py\u001b[0m in \u001b[0;36m<cell line: 0>\u001b[0;34m()\u001b[0m\n\u001b[0;32m----> 1\u001b[0;31m \u001b[0mget_ipython\u001b[0m\u001b[0;34m(\u001b[0m\u001b[0;34m)\u001b[0m\u001b[0;34m.\u001b[0m\u001b[0mrun_cell_magic\u001b[0m\u001b[0;34m(\u001b[0m\u001b[0;34m'shell'\u001b[0m\u001b[0;34m,\u001b[0m \u001b[0;34m''\u001b[0m\u001b[0;34m,\u001b[0m \u001b[0;34m'lex substring.l\\ngcc lex.yy.c\\n./a.out\\n'\u001b[0m\u001b[0;34m)\u001b[0m\u001b[0;34m\u001b[0m\u001b[0;34m\u001b[0m\u001b[0m\n\u001b[0m",
            "\u001b[0;32m/usr/local/lib/python3.12/dist-packages/google/colab/_shell.py\u001b[0m in \u001b[0;36mrun_cell_magic\u001b[0;34m(self, magic_name, line, cell)\u001b[0m\n\u001b[1;32m    274\u001b[0m     \u001b[0;32mif\u001b[0m \u001b[0mline\u001b[0m \u001b[0;32mand\u001b[0m \u001b[0;32mnot\u001b[0m \u001b[0mcell\u001b[0m\u001b[0;34m:\u001b[0m\u001b[0;34m\u001b[0m\u001b[0;34m\u001b[0m\u001b[0m\n\u001b[1;32m    275\u001b[0m       \u001b[0mcell\u001b[0m \u001b[0;34m=\u001b[0m \u001b[0;34m' '\u001b[0m\u001b[0;34m\u001b[0m\u001b[0;34m\u001b[0m\u001b[0m\n\u001b[0;32m--> 276\u001b[0;31m     \u001b[0;32mreturn\u001b[0m \u001b[0msuper\u001b[0m\u001b[0;34m(\u001b[0m\u001b[0;34m)\u001b[0m\u001b[0;34m.\u001b[0m\u001b[0mrun_cell_magic\u001b[0m\u001b[0;34m(\u001b[0m\u001b[0mmagic_name\u001b[0m\u001b[0;34m,\u001b[0m \u001b[0mline\u001b[0m\u001b[0;34m,\u001b[0m \u001b[0mcell\u001b[0m\u001b[0;34m)\u001b[0m\u001b[0;34m\u001b[0m\u001b[0;34m\u001b[0m\u001b[0m\n\u001b[0m\u001b[1;32m    277\u001b[0m \u001b[0;34m\u001b[0m\u001b[0m\n\u001b[1;32m    278\u001b[0m \u001b[0;34m\u001b[0m\u001b[0m\n",
            "\u001b[0;32m/usr/local/lib/python3.12/dist-packages/IPython/core/interactiveshell.py\u001b[0m in \u001b[0;36mrun_cell_magic\u001b[0;34m(self, magic_name, line, cell)\u001b[0m\n\u001b[1;32m   2471\u001b[0m             \u001b[0;32mwith\u001b[0m \u001b[0mself\u001b[0m\u001b[0;34m.\u001b[0m\u001b[0mbuiltin_trap\u001b[0m\u001b[0;34m:\u001b[0m\u001b[0;34m\u001b[0m\u001b[0;34m\u001b[0m\u001b[0m\n\u001b[1;32m   2472\u001b[0m                 \u001b[0margs\u001b[0m \u001b[0;34m=\u001b[0m \u001b[0;34m(\u001b[0m\u001b[0mmagic_arg_s\u001b[0m\u001b[0;34m,\u001b[0m \u001b[0mcell\u001b[0m\u001b[0;34m)\u001b[0m\u001b[0;34m\u001b[0m\u001b[0;34m\u001b[0m\u001b[0m\n\u001b[0;32m-> 2473\u001b[0;31m                 \u001b[0mresult\u001b[0m \u001b[0;34m=\u001b[0m \u001b[0mfn\u001b[0m\u001b[0;34m(\u001b[0m\u001b[0;34m*\u001b[0m\u001b[0margs\u001b[0m\u001b[0;34m,\u001b[0m \u001b[0;34m**\u001b[0m\u001b[0mkwargs\u001b[0m\u001b[0;34m)\u001b[0m\u001b[0;34m\u001b[0m\u001b[0;34m\u001b[0m\u001b[0m\n\u001b[0m\u001b[1;32m   2474\u001b[0m             \u001b[0;32mreturn\u001b[0m \u001b[0mresult\u001b[0m\u001b[0;34m\u001b[0m\u001b[0;34m\u001b[0m\u001b[0m\n\u001b[1;32m   2475\u001b[0m \u001b[0;34m\u001b[0m\u001b[0m\n",
            "\u001b[0;32m/usr/local/lib/python3.12/dist-packages/google/colab/_system_commands.py\u001b[0m in \u001b[0;36m_shell_cell_magic\u001b[0;34m(args, cmd)\u001b[0m\n\u001b[1;32m    110\u001b[0m   \u001b[0mresult\u001b[0m \u001b[0;34m=\u001b[0m \u001b[0m_run_command\u001b[0m\u001b[0;34m(\u001b[0m\u001b[0mcmd\u001b[0m\u001b[0;34m,\u001b[0m \u001b[0mclear_streamed_output\u001b[0m\u001b[0;34m=\u001b[0m\u001b[0;32mFalse\u001b[0m\u001b[0;34m)\u001b[0m\u001b[0;34m\u001b[0m\u001b[0;34m\u001b[0m\u001b[0m\n\u001b[1;32m    111\u001b[0m   \u001b[0;32mif\u001b[0m \u001b[0;32mnot\u001b[0m \u001b[0mparsed_args\u001b[0m\u001b[0;34m.\u001b[0m\u001b[0mignore_errors\u001b[0m\u001b[0;34m:\u001b[0m\u001b[0;34m\u001b[0m\u001b[0;34m\u001b[0m\u001b[0m\n\u001b[0;32m--> 112\u001b[0;31m     \u001b[0mresult\u001b[0m\u001b[0;34m.\u001b[0m\u001b[0mcheck_returncode\u001b[0m\u001b[0;34m(\u001b[0m\u001b[0;34m)\u001b[0m\u001b[0;34m\u001b[0m\u001b[0;34m\u001b[0m\u001b[0m\n\u001b[0m\u001b[1;32m    113\u001b[0m   \u001b[0;32mreturn\u001b[0m \u001b[0mresult\u001b[0m\u001b[0;34m\u001b[0m\u001b[0;34m\u001b[0m\u001b[0m\n\u001b[1;32m    114\u001b[0m \u001b[0;34m\u001b[0m\u001b[0m\n",
            "\u001b[0;32m/usr/local/lib/python3.12/dist-packages/google/colab/_system_commands.py\u001b[0m in \u001b[0;36mcheck_returncode\u001b[0;34m(self)\u001b[0m\n\u001b[1;32m    135\u001b[0m   \u001b[0;32mdef\u001b[0m \u001b[0mcheck_returncode\u001b[0m\u001b[0;34m(\u001b[0m\u001b[0mself\u001b[0m\u001b[0;34m)\u001b[0m\u001b[0;34m:\u001b[0m\u001b[0;34m\u001b[0m\u001b[0;34m\u001b[0m\u001b[0m\n\u001b[1;32m    136\u001b[0m     \u001b[0;32mif\u001b[0m \u001b[0mself\u001b[0m\u001b[0;34m.\u001b[0m\u001b[0mreturncode\u001b[0m\u001b[0;34m:\u001b[0m\u001b[0;34m\u001b[0m\u001b[0;34m\u001b[0m\u001b[0m\n\u001b[0;32m--> 137\u001b[0;31m       raise subprocess.CalledProcessError(\n\u001b[0m\u001b[1;32m    138\u001b[0m           \u001b[0mreturncode\u001b[0m\u001b[0;34m=\u001b[0m\u001b[0mself\u001b[0m\u001b[0;34m.\u001b[0m\u001b[0mreturncode\u001b[0m\u001b[0;34m,\u001b[0m \u001b[0mcmd\u001b[0m\u001b[0;34m=\u001b[0m\u001b[0mself\u001b[0m\u001b[0;34m.\u001b[0m\u001b[0margs\u001b[0m\u001b[0;34m,\u001b[0m \u001b[0moutput\u001b[0m\u001b[0;34m=\u001b[0m\u001b[0mself\u001b[0m\u001b[0;34m.\u001b[0m\u001b[0moutput\u001b[0m\u001b[0;34m\u001b[0m\u001b[0;34m\u001b[0m\u001b[0m\n\u001b[1;32m    139\u001b[0m       )\n",
            "\u001b[0;31mCalledProcessError\u001b[0m: Command 'lex substring.l\ngcc lex.yy.c\n./a.out\n' died with <Signals.SIGINT: 2>."
          ]
        }
      ]
    },
    {
      "cell_type": "markdown",
      "source": [],
      "metadata": {
        "id": "TPxa9h3I2_HV"
      }
    },
    {
      "cell_type": "markdown",
      "source": [
        "# YACC PROGRAMS\n",
        "\n"
      ],
      "metadata": {
        "id": "YvgEA7NU2_vG"
      }
    },
    {
      "cell_type": "markdown",
      "source": [
        "#variable declaration"
      ],
      "metadata": {
        "id": "2g8CqI5eVJFg"
      }
    },
    {
      "cell_type": "code",
      "source": [
        "%%writefile var.l\n",
        "%{\n",
        "#include \"y.tab.h\"\n",
        "%}\n",
        "\n",
        "%%\n",
        "[ \\t\\n] ;\n",
        "\"int\"|\"float\"|\"char\"|\"arr\" {return TYPE;}\n",
        "[a-zA-Z_][a-zA-Z_0-9]* {return ID;}\n",
        "\n",
        "\";\" {return SEMICOLON;}\n",
        "%%\n",
        "\n",
        "int yywrap(){return 1;}"
      ],
      "metadata": {
        "colab": {
          "base_uri": "https://localhost:8080/"
        },
        "id": "FOzX0Bea3FIB",
        "outputId": "20eb8526-c427-4ff3-bbfb-adcaf6e10a85"
      },
      "execution_count": null,
      "outputs": [
        {
          "output_type": "stream",
          "name": "stdout",
          "text": [
            "Overwriting var.l\n"
          ]
        }
      ]
    },
    {
      "cell_type": "code",
      "source": [
        "%%writefile var.y\n",
        "%{\n",
        "#include <stdio.h>\n",
        "#include <stdlib.h>\n",
        "%}\n",
        "\n",
        "%token ID TYPE SEMICOLON\n",
        "\n",
        "%%\n",
        "stmt:TYPE ID SEMICOLON {printf(\"Valid\");exit(0);};\n",
        "%%\n",
        "\n",
        "int yyerror(char *s){\n",
        "  printf(\"Invalid\");\n",
        "  exit(0);\n",
        "}\n",
        "int main(){\n",
        "  printf(\"Enter variable declaration\\n\");\n",
        "  yyparse();\n",
        "}\n"
      ],
      "metadata": {
        "colab": {
          "base_uri": "https://localhost:8080/"
        },
        "id": "qgbcnZ425HoT",
        "outputId": "8ca4077c-1c80-4647-d454-683eaea082f4"
      },
      "execution_count": null,
      "outputs": [
        {
          "output_type": "stream",
          "name": "stdout",
          "text": [
            "Overwriting var.y\n"
          ]
        }
      ]
    },
    {
      "cell_type": "code",
      "source": [
        "%%shell\n",
        "yacc -d var.y\n",
        "lex var.l\n",
        "cc y.tab.c lex.yy.c -ll\n",
        "./a.out"
      ],
      "metadata": {
        "colab": {
          "base_uri": "https://localhost:8080/"
        },
        "id": "bkG4kg5J6RRL",
        "outputId": "9dbd47ac-0584-4c68-8a4d-017608cbb2a6"
      },
      "execution_count": null,
      "outputs": [
        {
          "output_type": "stream",
          "name": "stdout",
          "text": [
            "\u001b[01m\u001b[Ky.tab.c:\u001b[m\u001b[K In function ‘\u001b[01m\u001b[Kyyparse\u001b[m\u001b[K’:\n",
            "\u001b[01m\u001b[Ky.tab.c:1016:16:\u001b[m\u001b[K \u001b[01;35m\u001b[Kwarning: \u001b[m\u001b[Kimplicit declaration of function ‘\u001b[01m\u001b[Kyylex\u001b[m\u001b[K’ [\u001b[01;35m\u001b[K\u001b]8;;https://gcc.gnu.org/onlinedocs/gcc/Warning-Options.html#index-Wimplicit-function-declaration\u0007-Wimplicit-function-declaration\u001b]8;;\u0007\u001b[m\u001b[K]\n",
            " 1016 |       yychar = \u001b[01;35m\u001b[Kyylex\u001b[m\u001b[K ();\n",
            "      |                \u001b[01;35m\u001b[K^~~~~\u001b[m\u001b[K\n",
            "\u001b[01m\u001b[Ky.tab.c:1157:7:\u001b[m\u001b[K \u001b[01;35m\u001b[Kwarning: \u001b[m\u001b[Kimplicit declaration of function ‘\u001b[01m\u001b[Kyyerror\u001b[m\u001b[K’; did you mean ‘\u001b[01m\u001b[Kyyerrok\u001b[m\u001b[K’? [\u001b[01;35m\u001b[K\u001b]8;;https://gcc.gnu.org/onlinedocs/gcc/Warning-Options.html#index-Wimplicit-function-declaration\u0007-Wimplicit-function-declaration\u001b]8;;\u0007\u001b[m\u001b[K]\n",
            " 1157 |       \u001b[01;35m\u001b[Kyyerror\u001b[m\u001b[K (YY_(\"syntax error\"));\n",
            "      |       \u001b[01;35m\u001b[K^~~~~~~\u001b[m\u001b[K\n",
            "      |       \u001b[32m\u001b[Kyyerrok\u001b[m\u001b[K\n",
            "Enter variable declaration\n",
            "int a;\n",
            "Valid"
          ]
        },
        {
          "output_type": "execute_result",
          "data": {
            "text/plain": []
          },
          "metadata": {},
          "execution_count": 19
        }
      ]
    },
    {
      "cell_type": "markdown",
      "source": [
        "# LANGUAGE ACCEPTING"
      ],
      "metadata": {
        "id": "iNy-8XH7E5yQ"
      }
    },
    {
      "cell_type": "markdown",
      "source": [
        "#a^nb^n"
      ],
      "metadata": {
        "id": "D87HQvGhU3rR"
      }
    },
    {
      "cell_type": "code",
      "source": [
        "%%writefile p1.l\n",
        "%{\n",
        "  #include \"y.tab.h\"\n",
        "%}\n",
        "\n",
        "%%\n",
        "\"a\" {return A;}\n",
        "\"b\" {return B;}\n",
        "\\n {return NL;}\n",
        "[ \\t] ;\n",
        "%%\n",
        "\n",
        "int yywrap() { return 1; }"
      ],
      "metadata": {
        "colab": {
          "base_uri": "https://localhost:8080/"
        },
        "id": "DJHKcUrJE9HL",
        "outputId": "51093a9b-7b14-47af-f3b7-efda7e9c8c84"
      },
      "execution_count": null,
      "outputs": [
        {
          "output_type": "stream",
          "name": "stdout",
          "text": [
            "Writing p1.l\n"
          ]
        }
      ]
    },
    {
      "cell_type": "code",
      "source": [
        "%%writefile p1.y\n",
        "%{\n",
        "#include <stdio.h>\n",
        "#include <stdlib.h>\n",
        "%}\n",
        "\n",
        "%token A B NL\n",
        "\n",
        "%%\n",
        "stmt: S NL {printf(\"Valid string\"); exit(0);}\n",
        "S : A S B| A B\n",
        "%%\n",
        "\n",
        "int yyerror(char *s){\n",
        "  printf(\"Invalid\");\n",
        "}\n",
        "\n",
        "int main(){\n",
        "  printf(\"Enter string:\");\n",
        "  yyparse();\n",
        "  }"
      ],
      "metadata": {
        "colab": {
          "base_uri": "https://localhost:8080/"
        },
        "id": "FKJwotEyJotQ",
        "outputId": "8ea484f8-75cc-48f5-c480-3cee50c82004"
      },
      "execution_count": null,
      "outputs": [
        {
          "output_type": "stream",
          "name": "stdout",
          "text": [
            "Writing p1.y\n"
          ]
        }
      ]
    },
    {
      "cell_type": "code",
      "source": [
        "%%shell\n",
        "yacc -d p1.y\n",
        "lex p1.l\n",
        "cc y.tab.c lex.yy.c -ll\n",
        "./a.out"
      ],
      "metadata": {
        "colab": {
          "base_uri": "https://localhost:8080/"
        },
        "id": "5E_I_zYHPH2q",
        "outputId": "e12f8eee-ba65-4114-f072-00ea077e65c8"
      },
      "execution_count": null,
      "outputs": [
        {
          "output_type": "stream",
          "name": "stdout",
          "text": [
            "lex: can't open p1.l\n",
            "\u001b[01m\u001b[Ky.tab.c:\u001b[m\u001b[K In function ‘\u001b[01m\u001b[Kyyparse\u001b[m\u001b[K’:\n",
            "\u001b[01m\u001b[Ky.tab.c:1017:16:\u001b[m\u001b[K \u001b[01;35m\u001b[Kwarning: \u001b[m\u001b[Kimplicit declaration of function ‘\u001b[01m\u001b[Kyylex\u001b[m\u001b[K’ [\u001b[01;35m\u001b[K\u001b]8;;https://gcc.gnu.org/onlinedocs/gcc/Warning-Options.html#index-Wimplicit-function-declaration\u0007-Wimplicit-function-declaration\u001b]8;;\u0007\u001b[m\u001b[K]\n",
            " 1017 |       yychar = \u001b[01;35m\u001b[Kyylex\u001b[m\u001b[K ();\n",
            "      |                \u001b[01;35m\u001b[K^~~~~\u001b[m\u001b[K\n",
            "\u001b[01m\u001b[Ky.tab.c:1158:7:\u001b[m\u001b[K \u001b[01;35m\u001b[Kwarning: \u001b[m\u001b[Kimplicit declaration of function ‘\u001b[01m\u001b[Kyyerror\u001b[m\u001b[K’; did you mean ‘\u001b[01m\u001b[Kyyerrok\u001b[m\u001b[K’? [\u001b[01;35m\u001b[K\u001b]8;;https://gcc.gnu.org/onlinedocs/gcc/Warning-Options.html#index-Wimplicit-function-declaration\u0007-Wimplicit-function-declaration\u001b]8;;\u0007\u001b[m\u001b[K]\n",
            " 1158 |       \u001b[01;35m\u001b[Kyyerror\u001b[m\u001b[K (YY_(\"syntax error\"));\n",
            "      |       \u001b[01;35m\u001b[K^~~~~~~\u001b[m\u001b[K\n",
            "      |       \u001b[32m\u001b[Kyyerrok\u001b[m\u001b[K\n",
            "Enter string:\n",
            "Invalid"
          ]
        },
        {
          "output_type": "execute_result",
          "data": {
            "text/plain": []
          },
          "metadata": {},
          "execution_count": 9
        }
      ]
    },
    {
      "cell_type": "markdown",
      "source": [
        "\n",
        "# a star b star"
      ],
      "metadata": {
        "id": "aAY_uWyfUpFx"
      }
    },
    {
      "cell_type": "code",
      "source": [
        "%%writefile p2.l\n",
        "%{\n",
        "#include \"y.tab.h\"\n",
        "%}\n",
        "\n",
        "%%\n",
        "\"a\" {return A;}\n",
        "\"b\" {return B;}\n",
        "\\n {return NL;}\n",
        "[ \\t] ;\n",
        "%%\n",
        "\n",
        "int yywrap(){\n",
        "  return 1;\n",
        "}"
      ],
      "metadata": {
        "colab": {
          "base_uri": "https://localhost:8080/"
        },
        "id": "JanmxHaHHp7R",
        "outputId": "a3bb4be8-718a-419d-a05b-d48eb3741fc8"
      },
      "execution_count": null,
      "outputs": [
        {
          "output_type": "stream",
          "name": "stdout",
          "text": [
            "Overwriting p2.l\n"
          ]
        }
      ]
    },
    {
      "cell_type": "code",
      "source": [
        "%%writefile p2.y\n",
        "%{\n",
        "  #include <stdio.h>\n",
        "  #include <stdlib.h>\n",
        "%}\n",
        "\n",
        "%token A B NL\n",
        "%%\n",
        "stmt:S NL {printf(\"Valid\");exit(0);}\n",
        "S: X Y\n",
        "X: A X | ;\n",
        "Y: B Y | ;\n",
        "%%\n",
        "\n",
        "int yyerror(char *s){\n",
        "  printf(\"invalid\");\n",
        "  exit(0);\n",
        "}\n",
        "int main(){\n",
        "  printf(\"Enter a string: \");\n",
        "  yyparse();\n",
        "}"
      ],
      "metadata": {
        "colab": {
          "base_uri": "https://localhost:8080/"
        },
        "id": "vSH2vc04IS-M",
        "outputId": "9c312f0e-e8c1-4eb8-d975-de5ba98dc3b7"
      },
      "execution_count": null,
      "outputs": [
        {
          "output_type": "stream",
          "name": "stdout",
          "text": [
            "Overwriting p2.y\n"
          ]
        }
      ]
    },
    {
      "cell_type": "code",
      "source": [
        "%%shell\n",
        "yacc -d p2.y\n",
        "lex p2.l\n",
        "gcc y.tab.c lex.yy.c\n",
        "./a.out"
      ],
      "metadata": {
        "colab": {
          "base_uri": "https://localhost:8080/"
        },
        "id": "vcwQOj1qJrDz",
        "outputId": "bea92793-40ec-4846-f9b9-d6bb2b950fe8"
      },
      "execution_count": null,
      "outputs": [
        {
          "output_type": "stream",
          "name": "stdout",
          "text": [
            "\u001b[01m\u001b[Ky.tab.c:\u001b[m\u001b[K In function ‘\u001b[01m\u001b[Kyyparse\u001b[m\u001b[K’:\n",
            "\u001b[01m\u001b[Ky.tab.c:1022:16:\u001b[m\u001b[K \u001b[01;35m\u001b[Kwarning: \u001b[m\u001b[Kimplicit declaration of function ‘\u001b[01m\u001b[Kyylex\u001b[m\u001b[K’ [\u001b[01;35m\u001b[K\u001b]8;;https://gcc.gnu.org/onlinedocs/gcc/Warning-Options.html#index-Wimplicit-function-declaration\u0007-Wimplicit-function-declaration\u001b]8;;\u0007\u001b[m\u001b[K]\n",
            " 1022 |       yychar = \u001b[01;35m\u001b[Kyylex\u001b[m\u001b[K ();\n",
            "      |                \u001b[01;35m\u001b[K^~~~~\u001b[m\u001b[K\n",
            "\u001b[01m\u001b[Ky.tab.c:1163:7:\u001b[m\u001b[K \u001b[01;35m\u001b[Kwarning: \u001b[m\u001b[Kimplicit declaration of function ‘\u001b[01m\u001b[Kyyerror\u001b[m\u001b[K’; did you mean ‘\u001b[01m\u001b[Kyyerrok\u001b[m\u001b[K’? [\u001b[01;35m\u001b[K\u001b]8;;https://gcc.gnu.org/onlinedocs/gcc/Warning-Options.html#index-Wimplicit-function-declaration\u0007-Wimplicit-function-declaration\u001b]8;;\u0007\u001b[m\u001b[K]\n",
            " 1163 |       \u001b[01;35m\u001b[Kyyerror\u001b[m\u001b[K (YY_(\"syntax error\"));\n",
            "      |       \u001b[01;35m\u001b[K^~~~~~~\u001b[m\u001b[K\n",
            "      |       \u001b[32m\u001b[Kyyerrok\u001b[m\u001b[K\n",
            "Enter a string: \n",
            "Valid"
          ]
        },
        {
          "output_type": "execute_result",
          "data": {
            "text/plain": []
          },
          "metadata": {},
          "execution_count": 16
        }
      ]
    },
    {
      "cell_type": "markdown",
      "source": [
        "#Calculator\n"
      ],
      "metadata": {
        "id": "dM-Ew4HSXzrG"
      }
    },
    {
      "cell_type": "code",
      "source": [
        "%%writefile calc.l\n",
        "%{\n",
        " #include \"y.tab.h\"\n",
        "%}\n",
        "\n",
        "%%\n",
        "[0-9]+ {yylval=atoi(yytext);return DIGIT;}\n",
        "[ \\t] {}\n",
        "\\n {return NL;}\n",
        ". {return yytext[0];}\n",
        "%%\n",
        "\n",
        "int yywrap(){\n",
        "  return 1;\n",
        "}"
      ],
      "metadata": {
        "colab": {
          "base_uri": "https://localhost:8080/"
        },
        "id": "7ROihb-fX8yw",
        "outputId": "2c72b404-fb72-41ad-deee-226282245393"
      },
      "execution_count": null,
      "outputs": [
        {
          "output_type": "stream",
          "name": "stdout",
          "text": [
            "Overwriting calc.l\n"
          ]
        }
      ]
    },
    {
      "cell_type": "code",
      "source": [
        "%%writefile calc.y\n",
        "%{\n",
        "  #include <stdio.h>\n",
        "  #include <stdlib.h>\n",
        "%}\n",
        "\n",
        "%token DIGIT OP NL\n",
        "%left '+' '-'\n",
        "%left '*' '/' '%'\n",
        "%%\n",
        "stmt: E NL {printf(\"Result:%d\", $1); exit(0);}\n",
        "E: E '+' T {$$ = $1+$3; }\n",
        " | E '-' T {$$ = $1-$3;}\n",
        " |T {$$=$1;} ;\n",
        "T: T '*' V {$$ = $1*$3;}\n",
        " | T '/' V {if($3==0){\n",
        "          printf(\"Division by zero\\n\");\n",
        "          exit(0);\n",
        "          }\n",
        "          else{$$ = $1/$3;}}\n",
        " |V {$$=$1;};\n",
        "V:'(' E ')' {$$=$2;}\n",
        " |DIGIT {$$=$1;};\n",
        "\n",
        "%%\n",
        "\n",
        "int yyerror(char *s){\n",
        "  printf(\"Invalid Expression\");\n",
        "  exit(0);\n",
        "}\n",
        "int main(){\n",
        "  printf(\"Enter Expression : \\n\");\n",
        "  yyparse();\n",
        "}"
      ],
      "metadata": {
        "colab": {
          "base_uri": "https://localhost:8080/"
        },
        "id": "McJgacf9ZVxA",
        "outputId": "b0edda76-d307-4dd5-b69e-7e1d067c5e5e"
      },
      "execution_count": null,
      "outputs": [
        {
          "output_type": "stream",
          "name": "stdout",
          "text": [
            "Overwriting calc.y\n"
          ]
        }
      ]
    },
    {
      "cell_type": "code",
      "source": [
        "%%shell\n",
        "yacc -d calc.y\n",
        "lex calc.l\n",
        "gcc y.tab.c lex.yy.c\n",
        "./a.out"
      ],
      "metadata": {
        "colab": {
          "base_uri": "https://localhost:8080/",
          "height": 512
        },
        "id": "xaiTmf-zf9fe",
        "outputId": "18693976-ba1a-4b6d-fe58-8bd425141bf0"
      },
      "execution_count": null,
      "outputs": [
        {
          "output_type": "stream",
          "name": "stdout",
          "text": [
            "\u001b[01m\u001b[Ky.tab.c:\u001b[m\u001b[K In function ‘\u001b[01m\u001b[Kyyparse\u001b[m\u001b[K’:\n",
            "\u001b[01m\u001b[Ky.tab.c:1035:16:\u001b[m\u001b[K \u001b[01;35m\u001b[Kwarning: \u001b[m\u001b[Kimplicit declaration of function ‘\u001b[01m\u001b[Kyylex\u001b[m\u001b[K’ [\u001b[01;35m\u001b[K\u001b]8;;https://gcc.gnu.org/onlinedocs/gcc/Warning-Options.html#index-Wimplicit-function-declaration\u0007-Wimplicit-function-declaration\u001b]8;;\u0007\u001b[m\u001b[K]\n",
            " 1035 |       yychar = \u001b[01;35m\u001b[Kyylex\u001b[m\u001b[K ();\n",
            "      |                \u001b[01;35m\u001b[K^~~~~\u001b[m\u001b[K\n",
            "\u001b[01m\u001b[Ky.tab.c:1228:7:\u001b[m\u001b[K \u001b[01;35m\u001b[Kwarning: \u001b[m\u001b[Kimplicit declaration of function ‘\u001b[01m\u001b[Kyyerror\u001b[m\u001b[K’; did you mean ‘\u001b[01m\u001b[Kyyerrok\u001b[m\u001b[K’? [\u001b[01;35m\u001b[K\u001b]8;;https://gcc.gnu.org/onlinedocs/gcc/Warning-Options.html#index-Wimplicit-function-declaration\u0007-Wimplicit-function-declaration\u001b]8;;\u0007\u001b[m\u001b[K]\n",
            " 1228 |       \u001b[01;35m\u001b[Kyyerror\u001b[m\u001b[K (YY_(\"syntax error\"));\n",
            "      |       \u001b[01;35m\u001b[K^~~~~~~\u001b[m\u001b[K\n",
            "      |       \u001b[32m\u001b[Kyyerrok\u001b[m\u001b[K\n",
            "Enter Expression : \n"
          ]
        },
        {
          "output_type": "error",
          "ename": "CalledProcessError",
          "evalue": "Command 'yacc -d calc.y\nlex calc.l \ngcc y.tab.c lex.yy.c\n./a.out\n' died with <Signals.SIGINT: 2>.",
          "traceback": [
            "\u001b[0;31m---------------------------------------------------------------------------\u001b[0m",
            "\u001b[0;31mCalledProcessError\u001b[0m                        Traceback (most recent call last)",
            "\u001b[0;32m/tmp/ipython-input-745316970.py\u001b[0m in \u001b[0;36m<cell line: 0>\u001b[0;34m()\u001b[0m\n\u001b[0;32m----> 1\u001b[0;31m \u001b[0mget_ipython\u001b[0m\u001b[0;34m(\u001b[0m\u001b[0;34m)\u001b[0m\u001b[0;34m.\u001b[0m\u001b[0mrun_cell_magic\u001b[0m\u001b[0;34m(\u001b[0m\u001b[0;34m'shell'\u001b[0m\u001b[0;34m,\u001b[0m \u001b[0;34m''\u001b[0m\u001b[0;34m,\u001b[0m \u001b[0;34m'yacc -d calc.y\\nlex calc.l \\ngcc y.tab.c lex.yy.c\\n./a.out\\n'\u001b[0m\u001b[0;34m)\u001b[0m\u001b[0;34m\u001b[0m\u001b[0;34m\u001b[0m\u001b[0m\n\u001b[0m",
            "\u001b[0;32m/usr/local/lib/python3.12/dist-packages/google/colab/_shell.py\u001b[0m in \u001b[0;36mrun_cell_magic\u001b[0;34m(self, magic_name, line, cell)\u001b[0m\n\u001b[1;32m    274\u001b[0m     \u001b[0;32mif\u001b[0m \u001b[0mline\u001b[0m \u001b[0;32mand\u001b[0m \u001b[0;32mnot\u001b[0m \u001b[0mcell\u001b[0m\u001b[0;34m:\u001b[0m\u001b[0;34m\u001b[0m\u001b[0;34m\u001b[0m\u001b[0m\n\u001b[1;32m    275\u001b[0m       \u001b[0mcell\u001b[0m \u001b[0;34m=\u001b[0m \u001b[0;34m' '\u001b[0m\u001b[0;34m\u001b[0m\u001b[0;34m\u001b[0m\u001b[0m\n\u001b[0;32m--> 276\u001b[0;31m     \u001b[0;32mreturn\u001b[0m \u001b[0msuper\u001b[0m\u001b[0;34m(\u001b[0m\u001b[0;34m)\u001b[0m\u001b[0;34m.\u001b[0m\u001b[0mrun_cell_magic\u001b[0m\u001b[0;34m(\u001b[0m\u001b[0mmagic_name\u001b[0m\u001b[0;34m,\u001b[0m \u001b[0mline\u001b[0m\u001b[0;34m,\u001b[0m \u001b[0mcell\u001b[0m\u001b[0;34m)\u001b[0m\u001b[0;34m\u001b[0m\u001b[0;34m\u001b[0m\u001b[0m\n\u001b[0m\u001b[1;32m    277\u001b[0m \u001b[0;34m\u001b[0m\u001b[0m\n\u001b[1;32m    278\u001b[0m \u001b[0;34m\u001b[0m\u001b[0m\n",
            "\u001b[0;32m/usr/local/lib/python3.12/dist-packages/IPython/core/interactiveshell.py\u001b[0m in \u001b[0;36mrun_cell_magic\u001b[0;34m(self, magic_name, line, cell)\u001b[0m\n\u001b[1;32m   2471\u001b[0m             \u001b[0;32mwith\u001b[0m \u001b[0mself\u001b[0m\u001b[0;34m.\u001b[0m\u001b[0mbuiltin_trap\u001b[0m\u001b[0;34m:\u001b[0m\u001b[0;34m\u001b[0m\u001b[0;34m\u001b[0m\u001b[0m\n\u001b[1;32m   2472\u001b[0m                 \u001b[0margs\u001b[0m \u001b[0;34m=\u001b[0m \u001b[0;34m(\u001b[0m\u001b[0mmagic_arg_s\u001b[0m\u001b[0;34m,\u001b[0m \u001b[0mcell\u001b[0m\u001b[0;34m)\u001b[0m\u001b[0;34m\u001b[0m\u001b[0;34m\u001b[0m\u001b[0m\n\u001b[0;32m-> 2473\u001b[0;31m                 \u001b[0mresult\u001b[0m \u001b[0;34m=\u001b[0m \u001b[0mfn\u001b[0m\u001b[0;34m(\u001b[0m\u001b[0;34m*\u001b[0m\u001b[0margs\u001b[0m\u001b[0;34m,\u001b[0m \u001b[0;34m**\u001b[0m\u001b[0mkwargs\u001b[0m\u001b[0;34m)\u001b[0m\u001b[0;34m\u001b[0m\u001b[0;34m\u001b[0m\u001b[0m\n\u001b[0m\u001b[1;32m   2474\u001b[0m             \u001b[0;32mreturn\u001b[0m \u001b[0mresult\u001b[0m\u001b[0;34m\u001b[0m\u001b[0;34m\u001b[0m\u001b[0m\n\u001b[1;32m   2475\u001b[0m \u001b[0;34m\u001b[0m\u001b[0m\n",
            "\u001b[0;32m/usr/local/lib/python3.12/dist-packages/google/colab/_system_commands.py\u001b[0m in \u001b[0;36m_shell_cell_magic\u001b[0;34m(args, cmd)\u001b[0m\n\u001b[1;32m    110\u001b[0m   \u001b[0mresult\u001b[0m \u001b[0;34m=\u001b[0m \u001b[0m_run_command\u001b[0m\u001b[0;34m(\u001b[0m\u001b[0mcmd\u001b[0m\u001b[0;34m,\u001b[0m \u001b[0mclear_streamed_output\u001b[0m\u001b[0;34m=\u001b[0m\u001b[0;32mFalse\u001b[0m\u001b[0;34m)\u001b[0m\u001b[0;34m\u001b[0m\u001b[0;34m\u001b[0m\u001b[0m\n\u001b[1;32m    111\u001b[0m   \u001b[0;32mif\u001b[0m \u001b[0;32mnot\u001b[0m \u001b[0mparsed_args\u001b[0m\u001b[0;34m.\u001b[0m\u001b[0mignore_errors\u001b[0m\u001b[0;34m:\u001b[0m\u001b[0;34m\u001b[0m\u001b[0;34m\u001b[0m\u001b[0m\n\u001b[0;32m--> 112\u001b[0;31m     \u001b[0mresult\u001b[0m\u001b[0;34m.\u001b[0m\u001b[0mcheck_returncode\u001b[0m\u001b[0;34m(\u001b[0m\u001b[0;34m)\u001b[0m\u001b[0;34m\u001b[0m\u001b[0;34m\u001b[0m\u001b[0m\n\u001b[0m\u001b[1;32m    113\u001b[0m   \u001b[0;32mreturn\u001b[0m \u001b[0mresult\u001b[0m\u001b[0;34m\u001b[0m\u001b[0;34m\u001b[0m\u001b[0m\n\u001b[1;32m    114\u001b[0m \u001b[0;34m\u001b[0m\u001b[0m\n",
            "\u001b[0;32m/usr/local/lib/python3.12/dist-packages/google/colab/_system_commands.py\u001b[0m in \u001b[0;36mcheck_returncode\u001b[0;34m(self)\u001b[0m\n\u001b[1;32m    135\u001b[0m   \u001b[0;32mdef\u001b[0m \u001b[0mcheck_returncode\u001b[0m\u001b[0;34m(\u001b[0m\u001b[0mself\u001b[0m\u001b[0;34m)\u001b[0m\u001b[0;34m:\u001b[0m\u001b[0;34m\u001b[0m\u001b[0;34m\u001b[0m\u001b[0m\n\u001b[1;32m    136\u001b[0m     \u001b[0;32mif\u001b[0m \u001b[0mself\u001b[0m\u001b[0;34m.\u001b[0m\u001b[0mreturncode\u001b[0m\u001b[0;34m:\u001b[0m\u001b[0;34m\u001b[0m\u001b[0;34m\u001b[0m\u001b[0m\n\u001b[0;32m--> 137\u001b[0;31m       raise subprocess.CalledProcessError(\n\u001b[0m\u001b[1;32m    138\u001b[0m           \u001b[0mreturncode\u001b[0m\u001b[0;34m=\u001b[0m\u001b[0mself\u001b[0m\u001b[0;34m.\u001b[0m\u001b[0mreturncode\u001b[0m\u001b[0;34m,\u001b[0m \u001b[0mcmd\u001b[0m\u001b[0;34m=\u001b[0m\u001b[0mself\u001b[0m\u001b[0;34m.\u001b[0m\u001b[0margs\u001b[0m\u001b[0;34m,\u001b[0m \u001b[0moutput\u001b[0m\u001b[0;34m=\u001b[0m\u001b[0mself\u001b[0m\u001b[0;34m.\u001b[0m\u001b[0moutput\u001b[0m\u001b[0;34m\u001b[0m\u001b[0;34m\u001b[0m\u001b[0m\n\u001b[1;32m    139\u001b[0m       )\n",
            "\u001b[0;31mCalledProcessError\u001b[0m: Command 'yacc -d calc.y\nlex calc.l \ngcc y.tab.c lex.yy.c\n./a.out\n' died with <Signals.SIGINT: 2>."
          ]
        }
      ]
    },
    {
      "cell_type": "code",
      "source": [
        "%%writefile cal1.l\n",
        "%{\n",
        "  #include \"y.tab.h\"\n",
        "%}\n",
        "\n",
        "%%\n",
        "[0-9]+ {yylval=atoi(yytext);return DIGIT;}\n",
        "[ \\t] ;\n",
        "\\n {return NL;}\n",
        ". {return yytext[0];}\n",
        "%%\n",
        "int yywrap(){return 1;}"
      ],
      "metadata": {
        "id": "uUCY0IjloDgz"
      },
      "execution_count": null,
      "outputs": []
    },
    {
      "cell_type": "code",
      "source": [
        "%%writefile cal1.y\n",
        "%{\n",
        "  #include <stdio.h>\n",
        "  #include <stdlib.h>\n",
        "%}\n",
        "\n",
        "%token DIGIT NL\n",
        "%left '+' '-'\n",
        "%left '*' '/' '%'\n",
        "\n",
        "%%\n",
        "stmt:E NL {printf(\"Result: %d\",$1);exit(0);}\n",
        "E:E '+' T {$$=$1+$3;}\n",
        " |E '-' T {$$=$1+$3;}\n",
        " |T {$$=$1;}\n",
        "T:T '*' V {$$=$1*$3;}\n",
        " |T '/' V {if($3==0){\n",
        "          printf(\"Division by zero\");\n",
        "          exit(0);\n",
        "          }\n",
        "          else{$$=$1+$3;}\n",
        "  }\n",
        " |T '%' V { $$ = $1 % $3; }\n",
        " |V{$$=$1;}\n",
        "V:'(' E ')' {$$=$2;}\n",
        " | DIGIT {$$=$1;}\n",
        "%%\n",
        "\n",
        "int yyerror(char *s){\n",
        "  printf(\"invalid expression\");\n",
        "  exit(0);\n",
        "}\n",
        "\n",
        "int main(){\n",
        "  printf(\"Enter Expression:\");\n",
        "  yyparse();\n",
        "}"
      ],
      "metadata": {
        "id": "xSRl5j-soe6Y"
      },
      "execution_count": null,
      "outputs": []
    },
    {
      "cell_type": "code",
      "source": [
        "%%shell\n",
        "yacc -d cal1.y\n",
        "lex cal1.l\n",
        "gcc y.tab.c lex.yy.c\n",
        "./a.out"
      ],
      "metadata": {
        "id": "21SCrQ8YqHL9"
      },
      "execution_count": null,
      "outputs": []
    },
    {
      "cell_type": "markdown",
      "source": [
        "# For LOOP\n"
      ],
      "metadata": {
        "id": "AymcDyurruqi"
      }
    },
    {
      "cell_type": "code",
      "source": [
        "%%writefile for1.l\n",
        "%{\n",
        "#include \"y.tab.h\"\n",
        "%}\n",
        "letter [A-Za-z]\n",
        "digit [0-9]\n",
        "%%\n",
        "for { return FOR; }\n",
        "int { return INT; }\n",
        "[a-zA-Z_][a-zA-Z_0-9]* { return ID; }\n",
        "((\"+\"|\"-\")?)({digit}+) { return NUM; }\n",
        "\"=\" { return EQUALS; }\n",
        "\"<\"|\"<=\"|\">\"|\">=\"|\"==\"|\"!=\" { return\n",
        "REL_OP; }\n",
        "\"++\"|\"--\" { return INC_DEC; }\n",
        "\"(\" { return PAR_OPEN; }\n",
        "\")\" { return PAR_CLOSE; }\n",
        "\",\" { return COMMA; }\n",
        "\";\" { return SEMICOLON; }\n",
        "\\n { return NL; }\n",
        ". {}\n",
        "%%\n",
        "int yywrap() {\n",
        "return 1;\n",
        "}\n"
      ],
      "metadata": {
        "colab": {
          "base_uri": "https://localhost:8080/"
        },
        "id": "LPykWTpWry_q",
        "outputId": "cdb975ba-bc4b-4e9c-8395-3f06fe862369"
      },
      "execution_count": null,
      "outputs": [
        {
          "output_type": "stream",
          "name": "stdout",
          "text": [
            "Overwriting for1.l\n"
          ]
        }
      ]
    },
    {
      "cell_type": "code",
      "source": [
        "%%writefile for1.y\n",
        "%{\n",
        "#include <stdio.h>\n",
        "#include <stdlib.h>\n",
        "%}\n",
        "%token FOR INT ID NUM EQUALS REL_OP\n",
        "INC_DEC PAR_OPEN PAR_CLOSE COMMA\n",
        "SEMICOLON NL\n",
        "%%\n",
        "stmt: S NL { printf(\"Valid\\n\"); exit(0); };\n",
        "S: FOR PAR_OPEN INIT COND ACTION\n",
        "PAR_CLOSE;\n",
        "INIT: INT ID EQUALS NUM SEMICOLON;\n",
        "COND: ID REL_OP NUM SEMICOLON\n",
        "| ID REL_OP ID SEMICOLON\n",
        ";\n",
        "ACTION: ID INC_DEC;\n",
        "%%\n",
        "int yyerror(char *msg) {\n",
        "printf(\"Invalid\\n\");\n",
        "exit(0);\n",
        "}\n",
        "int main() {\n",
        "printf(\"Enter the string: \");\n",
        "yyparse();\n",
        "}\n"
      ],
      "metadata": {
        "colab": {
          "base_uri": "https://localhost:8080/"
        },
        "id": "AYZI8YLVvzGm",
        "outputId": "65b8b8dd-36aa-47e5-99c7-d079586bf1c7"
      },
      "execution_count": null,
      "outputs": [
        {
          "output_type": "stream",
          "name": "stdout",
          "text": [
            "Overwriting for1.y\n"
          ]
        }
      ]
    },
    {
      "cell_type": "code",
      "source": [
        "%%shell\n",
        "yacc -d for1.y\n",
        "lex for1.l\n",
        "gcc y.tab.c lex.yy.c\n",
        "./a.out"
      ],
      "metadata": {
        "colab": {
          "base_uri": "https://localhost:8080/"
        },
        "id": "dILFWr8sxEEF",
        "outputId": "2a620078-754e-416f-dcbd-25ee320d5d5e"
      },
      "execution_count": null,
      "outputs": [
        {
          "output_type": "stream",
          "name": "stdout",
          "text": [
            "\u001b[01m\u001b[Ky.tab.c:\u001b[m\u001b[K In function ‘\u001b[01m\u001b[Kyyparse\u001b[m\u001b[K’:\n",
            "\u001b[01m\u001b[Ky.tab.c:1058:16:\u001b[m\u001b[K \u001b[01;35m\u001b[Kwarning: \u001b[m\u001b[Kimplicit declaration of function ‘\u001b[01m\u001b[Kyylex\u001b[m\u001b[K’ [\u001b[01;35m\u001b[K\u001b]8;;https://gcc.gnu.org/onlinedocs/gcc/Warning-Options.html#index-Wimplicit-function-declaration\u0007-Wimplicit-function-declaration\u001b]8;;\u0007\u001b[m\u001b[K]\n",
            " 1058 |       yychar = \u001b[01;35m\u001b[Kyylex\u001b[m\u001b[K ();\n",
            "      |                \u001b[01;35m\u001b[K^~~~~\u001b[m\u001b[K\n",
            "\u001b[01m\u001b[Ky.tab.c:1199:7:\u001b[m\u001b[K \u001b[01;35m\u001b[Kwarning: \u001b[m\u001b[Kimplicit declaration of function ‘\u001b[01m\u001b[Kyyerror\u001b[m\u001b[K’; did you mean ‘\u001b[01m\u001b[Kyyerrok\u001b[m\u001b[K’? [\u001b[01;35m\u001b[K\u001b]8;;https://gcc.gnu.org/onlinedocs/gcc/Warning-Options.html#index-Wimplicit-function-declaration\u0007-Wimplicit-function-declaration\u001b]8;;\u0007\u001b[m\u001b[K]\n",
            " 1199 |       \u001b[01;35m\u001b[Kyyerror\u001b[m\u001b[K (YY_(\"syntax error\"));\n",
            "      |       \u001b[01;35m\u001b[K^~~~~~~\u001b[m\u001b[K\n",
            "      |       \u001b[32m\u001b[Kyyerrok\u001b[m\u001b[K\n",
            "Enter the string: for(int i=0; i<10; i++)\n",
            "Valid\n"
          ]
        },
        {
          "output_type": "execute_result",
          "data": {
            "text/plain": []
          },
          "metadata": {},
          "execution_count": 99
        }
      ]
    },
    {
      "cell_type": "markdown",
      "source": [
        "# SWITCH CASE\n"
      ],
      "metadata": {
        "id": "uRtLIO2f-o8T"
      }
    },
    {
      "cell_type": "code",
      "source": [
        "%%writefile switch1.l\n",
        "%{\n",
        "#include \"y.tab.h\"\n",
        "%}\n",
        "\n",
        "letter [A-Za-z]\n",
        "digit [0-9]\n",
        "%%\n",
        "\"switch\" {return SWITCH;}\n",
        "\"case\" {return CASE;}\n",
        "\"default\" {return DEFAULT;} /* Added rule for default keyword */\n",
        "({letter}|(_))({letter}|{digit}|(_))* { return ID; }\n",
        "[0-9]+  { return NUM; }\n",
        "\"=\"     { return EQUALS; }\n",
        "\";\"     { return SEMICOLON; }\n",
        "\":\"     { return COLON; }\n",
        "\"(\"     { return PAR_OPEN; }\n",
        "\")\"     { return PAR_CLOSE; }\n",
        "\"{\"     { return CURLY_OPEN; }\n",
        "\"}\"     { return CURLY_CLOSE; }\n",
        "break   { return BREAK; }\n",
        "\\n      { return NL; }\n",
        "[ \\t]   ;\n",
        ".       {}\n",
        "%%\n",
        "\n",
        "int yywrap() { return 1; }"
      ],
      "metadata": {
        "colab": {
          "base_uri": "https://localhost:8080/"
        },
        "id": "aP9xHsUz-tly",
        "outputId": "4dc509d3-4534-4d71-f39f-27fe5a2284fa"
      },
      "execution_count": null,
      "outputs": [
        {
          "output_type": "stream",
          "name": "stdout",
          "text": [
            "Overwriting switch1.l\n"
          ]
        }
      ]
    },
    {
      "cell_type": "code",
      "source": [
        "%%writefile switch1.y\n",
        "%{\n",
        "#include <stdio.h>\n",
        "#include <stdlib.h>\n",
        "%}\n",
        "\n",
        "%token SWITCH CASE DEFAULT COLON ID NUM BREAK SEMICOLON PAR_OPEN PAR_CLOSE CURLY_OPEN CURLY_CLOSE EQUALS NL\n",
        "\n",
        "%%\n",
        "\n",
        "stmt: SWITCH PAR_OPEN ID PAR_CLOSE CURLY_OPEN case_list optional_default CURLY_CLOSE { printf(\"Valid\\n\"); exit(0); }\n",
        "    | SWITCH PAR_OPEN ID PAR_CLOSE CURLY_OPEN case_list optional_default CURLY_CLOSE NL { printf(\"Valid\\n\"); exit(0); }\n",
        "    ;\n",
        "\n",
        "\n",
        "case_list: /* empty */\n",
        "         | case_list CASE NUM COLON ACTION BREAK SEMICOLON\n",
        "         ;\n",
        "\n",
        "optional_default: /* empty */\n",
        "                | DEFAULT COLON ACTION BREAK SEMICOLON\n",
        "                ;\n",
        "\n",
        "ACTION: ID EQUALS NUM\n",
        "      | ID EQUALS ID\n",
        "      ;\n",
        "\n",
        "%%\n",
        "\n",
        "int yyerror(char *msg) {\n",
        "    printf(\"Invalid\\n\");\n",
        "    exit(0);\n",
        "}\n",
        "\n",
        "int main() {\n",
        "    printf(\"Enter the string: \");\n",
        "    yyparse();\n",
        "}"
      ],
      "metadata": {
        "colab": {
          "base_uri": "https://localhost:8080/"
        },
        "id": "jU4yrEQiBaWE",
        "outputId": "60aa44f9-86db-4bab-fd1d-c0f1e8aa4ea7"
      },
      "execution_count": null,
      "outputs": [
        {
          "output_type": "stream",
          "name": "stdout",
          "text": [
            "Overwriting switch1.y\n"
          ]
        }
      ]
    },
    {
      "cell_type": "code",
      "source": [
        "%%shell\n",
        "yacc -d switch1.y\n",
        "lex switch1.l\n",
        "gcc y.tab.c lex.yy.c\n",
        "./a.out"
      ],
      "metadata": {
        "colab": {
          "base_uri": "https://localhost:8080/"
        },
        "id": "jQBdTZvABgnr",
        "outputId": "fa77d250-f3bf-41f2-e435-effdd93fc743"
      },
      "execution_count": null,
      "outputs": [
        {
          "output_type": "stream",
          "name": "stdout",
          "text": [
            "switch1.l:20: warning, rule cannot be matched\n",
            "\u001b[01m\u001b[Ky.tab.c:\u001b[m\u001b[K In function ‘\u001b[01m\u001b[Kyyparse\u001b[m\u001b[K’:\n",
            "\u001b[01m\u001b[Ky.tab.c:1065:16:\u001b[m\u001b[K \u001b[01;35m\u001b[Kwarning: \u001b[m\u001b[Kimplicit declaration of function ‘\u001b[01m\u001b[Kyylex\u001b[m\u001b[K’ [\u001b[01;35m\u001b[K\u001b]8;;https://gcc.gnu.org/onlinedocs/gcc/Warning-Options.html#index-Wimplicit-function-declaration\u0007-Wimplicit-function-declaration\u001b]8;;\u0007\u001b[m\u001b[K]\n",
            " 1065 |       yychar = \u001b[01;35m\u001b[Kyylex\u001b[m\u001b[K ();\n",
            "      |                \u001b[01;35m\u001b[K^~~~~\u001b[m\u001b[K\n",
            "\u001b[01m\u001b[Ky.tab.c:1206:7:\u001b[m\u001b[K \u001b[01;35m\u001b[Kwarning: \u001b[m\u001b[Kimplicit declaration of function ‘\u001b[01m\u001b[Kyyerror\u001b[m\u001b[K’; did you mean ‘\u001b[01m\u001b[Kyyerrok\u001b[m\u001b[K’? [\u001b[01;35m\u001b[K\u001b]8;;https://gcc.gnu.org/onlinedocs/gcc/Warning-Options.html#index-Wimplicit-function-declaration\u0007-Wimplicit-function-declaration\u001b]8;;\u0007\u001b[m\u001b[K]\n",
            " 1206 |       \u001b[01;35m\u001b[Kyyerror\u001b[m\u001b[K (YY_(\"syntax error\"));\n",
            "      |       \u001b[01;35m\u001b[K^~~~~~~\u001b[m\u001b[K\n",
            "      |       \u001b[32m\u001b[Kyyerrok\u001b[m\u001b[K\n",
            "Enter the string: switch(x){ case 1: y=5; break; case 2: y=10; break; default: y=0; break; }\n",
            "Invalid\n"
          ]
        },
        {
          "output_type": "execute_result",
          "data": {
            "text/plain": []
          },
          "metadata": {},
          "execution_count": 115
        }
      ]
    },
    {
      "cell_type": "markdown",
      "source": [
        "# Backend\n"
      ],
      "metadata": {
        "id": "avrPrxNiE5gp"
      }
    },
    {
      "cell_type": "code",
      "source": [
        "%%writefile backend.c\n",
        "\n",
        "#include <stdio.h>\n",
        "#include <string.h>\n",
        "int main() {\n",
        "\n",
        "    FILE *f = fopen(\"input.txt\", \"r\");\n",
        "    if (f == NULL) return 1;\n",
        "\n",
        "    char res[3], op[2], op1[2], op2[2], eq[2];\n",
        "    while (fscanf(f, \"%s %s %s %s %s\", res, eq, op1, op, op2) != EOF) {\n",
        "        printf(\"MOV AX, [%s]\\n\", op1);\n",
        "        switch (op[0]) {\n",
        "            case '+': printf(\"ADD AX, [%s]\\n\", op2); break;\n",
        "            case '-': printf(\"SUB AX, [%s]\\n\", op2); break;\n",
        "            case '*': printf(\"MOV BX, [%s]\\nMUL BX\\n\", op2); break;\n",
        "            case '/': printf(\"MOV BX, [%s]\\nDIV BX\\n\", op2); break;\n",
        "        }\n",
        "        printf(\"MOV [%s], AX\\n\\n\", res);\n",
        "    }\n",
        "    fclose(f);\n",
        "    return 0;\n",
        "}"
      ],
      "metadata": {
        "id": "tBNlyoY0E8CZ",
        "outputId": "f558a423-885b-4a10-b9a0-bd398f7b5668",
        "colab": {
          "base_uri": "https://localhost:8080/"
        }
      },
      "execution_count": null,
      "outputs": [
        {
          "output_type": "stream",
          "name": "stdout",
          "text": [
            "Overwriting backend.c\n"
          ]
        }
      ]
    },
    {
      "cell_type": "code",
      "source": [
        "%%writefile input.txt\n",
        "X = a / b\n",
        "Y = X * c"
      ],
      "metadata": {
        "id": "uRjAV-BeFN5W",
        "outputId": "3892f171-d565-4d8c-81db-d78eebb3a68c",
        "colab": {
          "base_uri": "https://localhost:8080/"
        }
      },
      "execution_count": null,
      "outputs": [
        {
          "output_type": "stream",
          "name": "stdout",
          "text": [
            "Overwriting input.txt\n"
          ]
        }
      ]
    },
    {
      "cell_type": "code",
      "source": [
        "%%shell\n",
        "gcc backend.c\n",
        "./a.out"
      ],
      "metadata": {
        "id": "Q21aTRWEE9WW",
        "outputId": "002182af-8998-4370-83b9-b2de5a4cc250",
        "colab": {
          "base_uri": "https://localhost:8080/"
        }
      },
      "execution_count": null,
      "outputs": [
        {
          "output_type": "stream",
          "name": "stdout",
          "text": [
            "MOV AX, [a]\n",
            "MOV BX, [b]\n",
            "DIV BX\n",
            "MOV [X], AX\n",
            "\n",
            "MOV AX, [X]\n",
            "MOV BX, [c]\n",
            "MUL BX\n",
            "MOV [Y], AX\n",
            "\n"
          ]
        },
        {
          "output_type": "execute_result",
          "data": {
            "text/plain": []
          },
          "metadata": {},
          "execution_count": 129
        }
      ]
    },
    {
      "cell_type": "markdown",
      "source": [
        "# Constant Propagation\n"
      ],
      "metadata": {
        "id": "MWD4a3wtToit"
      }
    },
    {
      "cell_type": "code",
      "source": [
        "%%writefile cons_prop.c\n",
        "#include <stdio.h>\n",
        "#include <string.h>\n",
        "#include <stdlib.h>\n",
        "#include <ctype.h>\n",
        "struct expr {\n",
        "    char op[2], op1[5], op2[5], res[5];\n",
        "    int flag;\n",
        "} arr[10];\n",
        "int n;\n",
        "void input() {\n",
        "    printf(\"\\nEnter the max expressions: \");\n",
        "    scanf(\"%d\", &n);\n",
        "    printf(\"Enter the input (op op1 op2 res):\\n\");\n",
        "    for (int i = 0; i < n; i++) {\n",
        "        scanf(\"%s %s %s %s\", arr[i].op, arr[i].op1, arr[i].op2, arr[i].res);\n",
        "        arr[i].flag = 0;\n",
        "    }\n",
        "}\n",
        "void output() {\n",
        "    printf(\"\\nOptimized code:\\n\");\n",
        "    for (int i = 0; i < n; i++) {\n",
        "        if (!arr[i].flag) {\n",
        "            printf(\"%s %s %s %s\\n\", arr[i].op, arr[i].op1, arr[i].op2, arr[i].res);\n",
        "        }\n",
        "    }\n",
        "}\n",
        "void change(int p, char *res) {\n",
        "    for (int i = p + 1; i < n; i++) {\n",
        "        if (strcmp(arr[p].res, arr[i].op1) == 0) strcpy(arr[i].op1, res);\n",
        "        if (strcmp(arr[p].res, arr[i].op2) == 0) strcpy(arr[i].op2, res);\n",
        "    }\n",
        "}\n",
        "void constant() {\n",
        "    int op1, op2, res; char res1[5];\n",
        "    for (int i = 0; i < n; i++) {\n",
        "        if (isdigit(arr[i].op1[0]) && isdigit(arr[i].op2[0]) || strcmp(arr[i].op, \"=\") == 0) {\n",
        "            op1 = atoi(arr[i].op1); op2 = atoi(arr[i].op2);\n",
        "            switch (arr[i].op[0]) {\n",
        "                case '+': res = op1 + op2; break;\n",
        "                case '-': res = op1 - op2; break;\n",
        "                case '*': res = op1 * op2; break;\n",
        "                case '/': res = op1 / op2; break;\n",
        "                case '=': res = op1; break;\n",
        "            }\n",
        "            sprintf(res1, \"%d\", res);\n",
        "            arr[i].flag = 1;\n",
        "            change(i, res1);\n",
        "        }\n",
        "    }\n",
        "}\n",
        "int main() { input(); constant(); output(); return 0; }"
      ],
      "metadata": {
        "id": "TAblZF1XT0BH",
        "outputId": "56933ddc-993f-44ae-cdaf-992dac1b618f",
        "colab": {
          "base_uri": "https://localhost:8080/"
        }
      },
      "execution_count": null,
      "outputs": [
        {
          "output_type": "stream",
          "name": "stdout",
          "text": [
            "Overwriting cons_prop.c\n"
          ]
        }
      ]
    },
    {
      "cell_type": "code",
      "source": [
        "%%shell\n",
        "gcc cons_prop.c\n",
        "./a.out"
      ],
      "metadata": {
        "id": "kt9ovGCGT9R2",
        "outputId": "adb907bd-27f3-4b9a-ea66-a044f1cebd75",
        "colab": {
          "base_uri": "https://localhost:8080/"
        }
      },
      "execution_count": null,
      "outputs": [
        {
          "output_type": "stream",
          "name": "stdout",
          "text": [
            "\n",
            "Enter the max expressions: 4\n",
            "Enter the input (op op1 op2 res):\n",
            "= 3 - a\n",
            "+ a b t1\n",
            "+ a c t2\n",
            "+ t1 t2 t3\n",
            "\n",
            "Optimized code:\n",
            "+ 3 b t1\n",
            "+ 3 c t2\n",
            "+ t1 t2 t3\n"
          ]
        },
        {
          "output_type": "execute_result",
          "data": {
            "text/plain": []
          },
          "metadata": {},
          "execution_count": 151
        }
      ]
    },
    {
      "cell_type": "markdown",
      "source": [
        "# First and follow\n",
        "\n"
      ],
      "metadata": {
        "id": "YbqTNIwxgQEt"
      }
    },
    {
      "cell_type": "code",
      "source": [
        "%%writefile first.c\n",
        "#include <stdio.h>\n",
        "#include <string.h>\n",
        "#include <ctype.h>\n",
        "\n",
        "#define MAX 20\n",
        "\n",
        "char prod[MAX][MAX];       // all productions\n",
        "int n;                     // number of productions\n",
        "char nonTerminals[MAX];    // list of non-terminals\n",
        "int ntCount = 0;           // count of non-terminals\n",
        "\n",
        "// check if symbol is a non-terminal\n",
        "int isNonTerminal(char c) {\n",
        "    return isupper(c);\n",
        "}\n",
        "\n",
        "// add a symbol to a set if it's not already present\n",
        "void addToSet(char set[], char c) {\n",
        "    if (!strchr(set, c)) {\n",
        "        int len = strlen(set);\n",
        "        set[len] = c;\n",
        "        set[len + 1] = '\\0';\n",
        "    }\n",
        "}\n",
        "\n",
        "// ---------------- FIND FIRST ----------------\n",
        "void findFirst(char result[], char c) {\n",
        "    // If c is a terminal, FIRST(c) = {c}\n",
        "    if (!isNonTerminal(c)) {\n",
        "        addToSet(result, c);\n",
        "        return;\n",
        "    }\n",
        "\n",
        "    // Otherwise, go through all productions with LHS = c\n",
        "    for (int i = 0; i < n; i++) {\n",
        "        if (prod[i][0] == c) {\n",
        "            // Loop through RHS (starts from index 2)\n",
        "            for (int j = 2; prod[i][j] != '\\0'; j++) {\n",
        "                char sym = prod[i][j];\n",
        "\n",
        "                // If epsilon directly\n",
        "                if (sym == '#') {\n",
        "                    addToSet(result, '#');\n",
        "                    break;\n",
        "                }\n",
        "\n",
        "                char temp[50] = \"\";\n",
        "                findFirst(temp, sym);\n",
        "\n",
        "                // Add all symbols from FIRST(sym) except epsilon\n",
        "                for (int k = 0; temp[k] != '\\0'; k++) {\n",
        "                    if (temp[k] != '#')\n",
        "                        addToSet(result, temp[k]);\n",
        "                }\n",
        "\n",
        "                // If epsilon not found, stop checking next symbols\n",
        "                if (!strchr(temp, '#'))\n",
        "                    break;\n",
        "\n",
        "                // If we reached end and epsilon found everywhere\n",
        "                if (prod[i][j + 1] == '\\0')\n",
        "                    addToSet(result, '#');\n",
        "            }\n",
        "        }\n",
        "    }\n",
        "}\n",
        "\n",
        "// ---------------- FIND FOLLOW ----------------\n",
        "void findFollow(char result[], char c) {\n",
        "    // Rule 1: start symbol gets $\n",
        "    if (prod[0][0] == c)\n",
        "        addToSet(result, '$');\n",
        "\n",
        "    // Check every production\n",
        "    for (int i = 0; i < n; i++) {\n",
        "        // Traverse RHS\n",
        "        for (int j = 2; prod[i][j] != '\\0'; j++) {\n",
        "            if (prod[i][j] == c) {\n",
        "\n",
        "                // Case 1: symbol followed by something\n",
        "                if (prod[i][j + 1] != '\\0') {\n",
        "                    char next = prod[i][j + 1];\n",
        "                    char temp[50] = \"\";\n",
        "                    findFirst(temp, next);\n",
        "\n",
        "                    // Add all FIRST(next) except epsilon\n",
        "                    for (int k = 0; temp[k] != '\\0'; k++) {\n",
        "                        if (temp[k] != '#')\n",
        "                            addToSet(result, temp[k]);\n",
        "                    }\n",
        "\n",
        "                    // If epsilon in FIRST(next), FOLLOW(LHS) also added\n",
        "                    if (strchr(temp, '#'))\n",
        "                        findFollow(result, prod[i][0]);\n",
        "                }\n",
        "\n",
        "                // Case 2: symbol is at end → FOLLOW(LHS)\n",
        "                else if (prod[i][0] != c) {\n",
        "                    findFollow(result, prod[i][0]);\n",
        "                }\n",
        "            }\n",
        "        }\n",
        "    }\n",
        "}\n",
        "\n",
        "// ---------------- MAIN FUNCTION ----------------\n",
        "int main() {\n",
        "    printf(\"Enter number of productions: \");\n",
        "    scanf(\"%d\", &n);\n",
        "\n",
        "    printf(\"Enter productions (e.g., E=TR, R=+TR, R=#):\\n\");\n",
        "    for (int i = 0; i < n; i++) {\n",
        "        scanf(\"%s\", prod[i]);\n",
        "        // store non-terminals\n",
        "        if (!strchr(nonTerminals, prod[i][0])) {\n",
        "            nonTerminals[ntCount++] = prod[i][0];\n",
        "        }\n",
        "    }\n",
        "\n",
        "    printf(\"\\n--- FIRST and FOLLOW Sets ---\\n\");\n",
        "    for (int i = 0; i < ntCount; i++) {\n",
        "        char c = nonTerminals[i];\n",
        "        char firstRes[50] = \"\";\n",
        "        char followRes[50] = \"\";\n",
        "\n",
        "        findFirst(firstRes, c);\n",
        "        findFollow(followRes, c);\n",
        "\n",
        "        printf(\"FIRST(%c) = { \", c);\n",
        "        for (int j = 0; firstRes[j]; j++)\n",
        "            printf(\"%c \", firstRes[j]);\n",
        "        printf(\"}\\n\");\n",
        "\n",
        "        printf(\"FOLLOW(%c) = { \", c);\n",
        "        for (int j = 0; followRes[j]; j++)\n",
        "            printf(\"%c \", followRes[j]);\n",
        "        printf(\"}\\n\\n\");\n",
        "    }\n",
        "\n",
        "    return 0;\n",
        "}\n",
        "\n"
      ],
      "metadata": {
        "colab": {
          "base_uri": "https://localhost:8080/"
        },
        "id": "fR7OH0_SgTfk",
        "outputId": "5e041f01-4d72-4e3d-e58a-f93d52e5d56e"
      },
      "execution_count": null,
      "outputs": [
        {
          "output_type": "stream",
          "name": "stdout",
          "text": [
            "Overwriting first.c\n"
          ]
        }
      ]
    },
    {
      "cell_type": "code",
      "source": [
        "%%shell\n",
        "gcc first.c\n",
        "./a.out"
      ],
      "metadata": {
        "colab": {
          "base_uri": "https://localhost:8080/"
        },
        "id": "8nHXkJvkghXO",
        "outputId": "2c468fb2-55e8-42d5-a1c1-11cb2241f9bb"
      },
      "execution_count": null,
      "outputs": [
        {
          "output_type": "stream",
          "name": "stdout",
          "text": [
            "Enter number of productions: 8\n",
            "Enter productions (e.g., E=TR, R=+TR, R=#):\n",
            "E=TR\n",
            "R=+TR\n",
            "R=#\n",
            "T=FY\n",
            "Y=*FY\n",
            "Y=#\n",
            "F=(E)\n",
            "F=i\n",
            "\n",
            "--- FIRST and FOLLOW Sets ---\n",
            "FIRST(E) = { ( i }\n",
            "FOLLOW(E) = { $ ) }\n",
            "\n",
            "FIRST(R) = { + # }\n",
            "FOLLOW(R) = { $ ) }\n",
            "\n",
            "FIRST(T) = { ( i }\n",
            "FOLLOW(T) = { + $ ) }\n",
            "\n",
            "FIRST(Y) = { * # }\n",
            "FOLLOW(Y) = { + $ ) }\n",
            "\n",
            "FIRST(F) = { ( i }\n",
            "FOLLOW(F) = { * + $ ) }\n",
            "\n"
          ]
        },
        {
          "output_type": "execute_result",
          "data": {
            "text/plain": []
          },
          "metadata": {},
          "execution_count": 12
        }
      ]
    },
    {
      "cell_type": "markdown",
      "source": [
        "# E Closure"
      ],
      "metadata": {
        "id": "wtzaerskMlzc"
      }
    },
    {
      "cell_type": "code",
      "source": [
        "%%writefile e_epsilon.c\n",
        "#include <stdio.h>\n",
        "\n",
        "int arr[10][10], visited[10];\n",
        "int n, t, k, i, j, s1, s2;\n",
        "char trans;\n",
        "\n",
        "void closure(int i) {\n",
        "    visited[i] = 1;\n",
        "    for (j = 0; j < n; j++) {\n",
        "        if (arr[i][j] == 1 && visited[j] != 1) {\n",
        "            printf(\",q%d\", j);\n",
        "            closure(j);\n",
        "        }\n",
        "    }\n",
        "}\n",
        "\n",
        "int main() {\n",
        "    printf(\"\\nEnter the no of states: \");\n",
        "    scanf(\"%d\", &n);\n",
        "\n",
        "    printf(\"Enter number of transitions:\");\n",
        "    scanf(\"%d\", &t);\n",
        "\n",
        "    printf(\"Enter transitions (e.g., 0 e 1):\\n\");\n",
        "    for (i = 0; i < t; i++) {\n",
        "        scanf(\"%d %c %d\", &s1, &trans, &s2);\n",
        "        if (trans == 'e') {\n",
        "            arr[s1][s2] = 1;\n",
        "        }\n",
        "    }\n",
        "\n",
        "    printf(\"\\nThe epsilon closures are: \");\n",
        "    for (i = 0; i < n; i++) {\n",
        "        printf(\"\\nState q%d: {q%d\", i, i);\n",
        "        for (k = 0; k < n; k++) {\n",
        "            visited[k] = 0;\n",
        "        }\n",
        "        closure(i);\n",
        "        printf(\"}\");\n",
        "    }\n",
        "\n",
        "    printf(\"\\n\");\n",
        "    return 0;\n",
        "}"
      ],
      "metadata": {
        "id": "QVJ7S3U0Mpip",
        "outputId": "625b69a0-3c9a-470a-b38e-1f07afa67d4d",
        "colab": {
          "base_uri": "https://localhost:8080/"
        }
      },
      "execution_count": null,
      "outputs": [
        {
          "output_type": "stream",
          "name": "stdout",
          "text": [
            "Writing e_epsilon.c\n"
          ]
        }
      ]
    },
    {
      "cell_type": "code",
      "source": [
        "%%shell\n",
        "gcc e_epsilon.c\n",
        "./a.out"
      ],
      "metadata": {
        "id": "4UFZ2Zd3MpQl",
        "outputId": "e5c48a39-2875-4a66-f712-2b59f6f9025a",
        "colab": {
          "base_uri": "https://localhost:8080/"
        }
      },
      "execution_count": null,
      "outputs": [
        {
          "output_type": "stream",
          "name": "stdout",
          "text": [
            "\n",
            "Enter the no of states: 4\n",
            "Enter number of transitions:3\n",
            "Enter transitions (e.g., 0 e 1):\n",
            "0 e 1\n",
            "1 e 2\n",
            "2 1 3\n",
            "\n",
            "The epsilon closures are: \n",
            "State q0: {q0,q1,q2}\n",
            "State q1: {q1,q2}\n",
            "State q2: {q2}\n",
            "State q3: {q3}\n"
          ]
        },
        {
          "output_type": "execute_result",
          "data": {
            "text/plain": []
          },
          "metadata": {},
          "execution_count": 2
        }
      ]
    },
    {
      "cell_type": "markdown",
      "source": [
        "# Epsilon NFA to NFA"
      ],
      "metadata": {
        "id": "CQrCdJpsN_I7"
      }
    },
    {
      "cell_type": "code",
      "source": [
        "%%writefile enfa_nfa.c\n",
        "#include <stdio.h>\n",
        "#include <string.h>\n",
        "\n",
        "char enfa[20][3], final[30];\n",
        "int ntrans;\n",
        "\n",
        "int isin(char c, char str[]) {\n",
        "    for (int i = 0; i < strlen(str); i++)\n",
        "        if (str[i] == c)\n",
        "            return 1;\n",
        "    return 0;\n",
        "}\n",
        "\n",
        "void add(char str[], char c) {\n",
        "    if (!isin(c, str)) {\n",
        "        int len = strlen(str);\n",
        "        str[len] = c;\n",
        "        str[len + 1] = '\\0';\n",
        "    }\n",
        "}\n",
        "\n",
        "void addstate(char c1, char c2) {\n",
        "    for (int i = 0; i < ntrans; i++)\n",
        "        if (enfa[i][0] == c2 && enfa[i][1] != 'e')\n",
        "            printf(\"%c %c %c\\n\", c1, enfa[i][1], enfa[i][2]);\n",
        "        else if (enfa[i][0] == c2 && enfa[i][1] == 'e' && enfa[i][2] != c1)\n",
        "            addstate(c1, enfa[i][2]);\n",
        "}\n",
        "\n",
        "int main() {\n",
        "    int i;\n",
        "    printf(\"Enter number of transitions:\");\n",
        "    scanf(\"%d\", &ntrans);\n",
        "\n",
        "    while (getchar() != '\\n');\n",
        "\n",
        "    printf(\"Enter transitions as \\nstate symbol state\\n\");\n",
        "    for (i = 0; i < ntrans; i++) {\n",
        "        scanf(\" %c %c %c\", &enfa[i][0], &enfa[i][1], &enfa[i][2]);\n",
        "        while (getchar() != '\\n');\n",
        "    }\n",
        "\n",
        "    printf(\"Final states:\");\n",
        "    scanf(\"%s\", final);\n",
        "\n",
        "    printf(\"\\nNFA transitions without epsilon\\n\");\n",
        "    for (i = 0; i < ntrans; i++)\n",
        "        if (enfa[i][1] != 'e')\n",
        "            printf(\"%c %c %c\\n\", enfa[i][0], enfa[i][1], enfa[i][2]);\n",
        "        else\n",
        "            addstate(enfa[i][0], enfa[i][2]);\n",
        "\n",
        "    for (i = 0; i < ntrans; i++)\n",
        "        if (isin(enfa[i][2], final) && enfa[i][1] == 'e')\n",
        "            add(final, enfa[i][0]);\n",
        "\n",
        "    printf(\"Final states: {%s}\\n\", final);\n",
        "    return 0;\n",
        "}"
      ],
      "metadata": {
        "id": "qwUCn_zKODgA",
        "outputId": "22b70d10-73ad-4cbc-e680-30821d2bd4b2",
        "colab": {
          "base_uri": "https://localhost:8080/"
        }
      },
      "execution_count": 34,
      "outputs": [
        {
          "output_type": "stream",
          "name": "stdout",
          "text": [
            "Writing enfa_nfa.c\n"
          ]
        }
      ]
    },
    {
      "cell_type": "code",
      "source": [
        "%%shell\n",
        "gcc enfa_nfa.c\n",
        "./a.out"
      ],
      "metadata": {
        "id": "ZmUJIxXoO7Fs",
        "outputId": "12b25ff4-506a-4ff5-9ddc-695c6e44f934",
        "colab": {
          "base_uri": "https://localhost:8080/"
        }
      },
      "execution_count": 35,
      "outputs": [
        {
          "output_type": "stream",
          "name": "stdout",
          "text": [
            "Enter number of transitions:1\n",
            "Enter transitions as \n",
            "state symbol state\n",
            "0 e 1\n",
            "Final states:1\n",
            "\n",
            "NFA transitions without epsilon\n",
            "Final states: {10}\n"
          ]
        },
        {
          "output_type": "execute_result",
          "data": {
            "text/plain": []
          },
          "metadata": {},
          "execution_count": 35
        }
      ]
    },
    {
      "cell_type": "markdown",
      "source": [
        "# shift reducer\n"
      ],
      "metadata": {
        "id": "Ga-qU-owoEhO"
      }
    },
    {
      "cell_type": "code",
      "source": [
        "%%writefile shift.c\n",
        "#include <stdio.h>\n",
        "#include <string.h>\n",
        "\n",
        "char s[256], b[256];\n",
        "int t = 0, p = 0;\n",
        "\n",
        "void printTable(const char *action) {\n",
        "    printf(\"%-20s %-20s$ %-20s\\n\", s, b + p, action);\n",
        "}\n",
        "\n",
        "void R() {\n",
        "    int changed = 1;\n",
        "    while (changed) {\n",
        "        changed = 0;\n",
        "\n",
        "        // (E) -> E\n",
        "        if (t >= 3 && s[t-3] == '(' && s[t-2] == 'E' && s[t-1] == ')') {\n",
        "            t -= 3;\n",
        "            s[t++] = 'E';\n",
        "\n",
        "            printTable(\"REDUCE (E)->E\");\n",
        "            changed = 1;\n",
        "            continue;\n",
        "        }\n",
        "\n",
        "        // E+E -> E\n",
        "        if (t >= 3 && s[t-3] == 'E' && s[t-2] == '+' && s[t-1] == 'E') {\n",
        "            t -= 3;\n",
        "            s[t++] = 'E';\n",
        "\n",
        "            printTable(\"REDUCE E+E->E\");\n",
        "            changed = 1;\n",
        "            continue;\n",
        "        }\n",
        "\n",
        "        // E*E -> E\n",
        "        if (t >= 3 && s[t-3] == 'E' && s[t-2] == '*' && s[t-1] == 'E') {\n",
        "            t -= 3;\n",
        "            s[t++] = 'E';\n",
        "\n",
        "            printTable(\"REDUCE E*E->E\");\n",
        "            changed = 1;\n",
        "            continue;\n",
        "        }\n",
        "\n",
        "        // i -> E\n",
        "        if (t >= 1 && s[t-1] == 'i') {\n",
        "            s[t-1] = 'E';\n",
        "\n",
        "            printTable(\"REDUCE i->E\");\n",
        "            changed = 1;\n",
        "            continue;\n",
        "        }\n",
        "    }\n",
        "}\n",
        "\n",
        "int main() {\n",
        "    printf(\"GRAMMAR:\\n\");\n",
        "    printf(\"E -> E+E | E*E | (E) | i\\n\\n\");\n",
        "\n",
        "    printf(\"Enter input: \");\n",
        "    if (scanf(\"%255s\", b) != 1) return 0;\n",
        "\n",
        "    printf(\"\\n%-20s %-20s %-20s\\n\", \"STACK\", \"INPUT\", \"ACTION\");\n",
        "    printf(\"------------------------------------------------------------\\n\");\n",
        "\n",
        "    while (b[p] != '\\0') {\n",
        "        s[t++] = b[p++];\n",
        "\n",
        "        printTable(\"SHIFT\");\n",
        "        R();\n",
        "    }\n",
        "\n",
        "    R();\n",
        "\n",
        "    if (t == 1 && s[0] == 'E')\n",
        "        printf(\"\\nResult: Input accepted.\\n\");\n",
        "    else {\n",
        "        printf(\"\\nResult: Input rejected.\\n\");\n",
        "        printf(\"Final Stack: %s\\n\", s);\n",
        "    }\n",
        "\n",
        "    return 0;\n",
        "}\n"
      ],
      "metadata": {
        "colab": {
          "base_uri": "https://localhost:8080/"
        },
        "id": "QEj9sv5HoILX",
        "outputId": "1c3d086f-5375-4a11-aaba-ac5f6748d65c"
      },
      "execution_count": 20,
      "outputs": [
        {
          "output_type": "stream",
          "name": "stdout",
          "text": [
            "Overwriting shift.c\n"
          ]
        }
      ]
    },
    {
      "cell_type": "code",
      "source": [
        "%%shell\n",
        "gcc shift.c\n",
        "./a.out"
      ],
      "metadata": {
        "colab": {
          "base_uri": "https://localhost:8080/"
        },
        "id": "G20oJgQ7oNZ_",
        "outputId": "4280ffbe-5757-45c8-a70d-f08b8dcf8900"
      },
      "execution_count": 24,
      "outputs": [
        {
          "output_type": "stream",
          "name": "stdout",
          "text": [
            "GRAMMAR:\n",
            "E -> E+E | E*E | (E) | i\n",
            "\n",
            "Enter input: i+i+(i)*i\n",
            "\n",
            "STACK                INPUT                ACTION              \n",
            "------------------------------------------------------------\n",
            "i                    +i+(i)*i            $ SHIFT               \n",
            "E                    +i+(i)*i            $ REDUCE i->E         \n",
            "E+                   i+(i)*i             $ SHIFT               \n",
            "E+i                  +(i)*i              $ SHIFT               \n",
            "E+E                  +(i)*i              $ REDUCE i->E         \n",
            "E+E                  +(i)*i              $ REDUCE E+E->E       \n",
            "E+E                  (i)*i               $ SHIFT               \n",
            "E+(                  i)*i                $ SHIFT               \n",
            "E+(i                 )*i                 $ SHIFT               \n",
            "E+(E                 )*i                 $ REDUCE i->E         \n",
            "E+(E)                *i                  $ SHIFT               \n",
            "E+EE)                *i                  $ REDUCE (E)->E       \n",
            "E+EE)                *i                  $ REDUCE E+E->E       \n",
            "E*EE)                i                   $ SHIFT               \n",
            "E*iE)                                    $ SHIFT               \n",
            "E*EE)                                    $ REDUCE i->E         \n",
            "E*EE)                                    $ REDUCE E*E->E       \n",
            "\n",
            "Result: Input accepted.\n"
          ]
        },
        {
          "output_type": "execute_result",
          "data": {
            "text/plain": []
          },
          "metadata": {},
          "execution_count": 24
        }
      ]
    },
    {
      "cell_type": "markdown",
      "source": [
        "# Intermediate code generation"
      ],
      "metadata": {
        "id": "7hyiJU3ovya4"
      }
    },
    {
      "cell_type": "code",
      "source": [
        "%%writefile inter.c\n",
        "\n",
        "#include <stdio.h>\n",
        "#include <string.h>\n",
        "#include <ctype.h>\n",
        "#include <stdlib.h>\n",
        "\n",
        "#define MAX 100\n",
        "char stack[MAX];\n",
        "int top = -1;\n",
        "\n",
        "void push(char c) {\n",
        "   if (top < MAX - 1)\n",
        "   top++;\n",
        "   stack[top] = c;\n",
        "    }\n",
        "char pop() {\n",
        "  if (top > -1)\n",
        "  return stack[top--];\n",
        "  }\n",
        "int priority(char c) {\n",
        "    if(c == '^') return 3;\n",
        "    if(c == '*' || c == '/') return 2;\n",
        "    if(c == '+' || c == '-') return 1;\n",
        "    return 0;\n",
        "}\n",
        "void infixToPostfix(char infix[], char postfix[]) {\n",
        "    int i, j = 0;\n",
        "    for (i = 0; infix[i]; i++) {\n",
        "        if (isalnum(infix[i]))\n",
        "        postfix[j++] = infix[i];\n",
        "\n",
        "        else if (infix[i] == '(')\n",
        "        push(infix[i]);\n",
        "\n",
        "        else if (infix[i] == ')') {\n",
        "            while (top != -1 && stack[top] != '(')\n",
        "            postfix[j++] = pop();\n",
        "            pop(); // Pop '('\n",
        "        } else {\n",
        "            while (top != -1 && priority(stack[top]) >= priority(infix[i]))\n",
        "                postfix[j++] = pop();\n",
        "            push(infix[i]);\n",
        "        }\n",
        "    }\n",
        "    while (top != -1) postfix[j++] = pop();\n",
        "    postfix[j] = '\\0';\n",
        "}\n",
        "void threeadd(char *str) {\n",
        "    int t = 1;\n",
        "    for (int i = 0; str[i]; i++) {\n",
        "        if (isalnum(str[i])) {\n",
        "            push(str[i]);\n",
        "        } else {\n",
        "            char op2 = pop();\n",
        "            char op1 = pop();\n",
        "            printf(\"t%d := %c %c %c\\n\", t, op1, str[i], op2);\n",
        "            push('0' + t);\n",
        "            t++;\n",
        "        }\n",
        "    }\n",
        "}\n",
        "int main() {\n",
        "    char infix[MAX], postfix[MAX];\n",
        "    printf(\"Enter a simple expression: \");\n",
        "    scanf(\"%s\", infix);\n",
        "    infixToPostfix(infix, postfix);\n",
        "    threeadd(postfix);\n",
        "    return 0;\n",
        "}"
      ],
      "metadata": {
        "colab": {
          "base_uri": "https://localhost:8080/"
        },
        "id": "WAQlbO3mv16U",
        "outputId": "6856752b-407b-49e5-d195-b68ffe5528e3"
      },
      "execution_count": 33,
      "outputs": [
        {
          "output_type": "stream",
          "name": "stdout",
          "text": [
            "Overwriting inter.c\n"
          ]
        }
      ]
    },
    {
      "cell_type": "code",
      "source": [
        "%%shell\n",
        "gcc inter.c\n",
        "./a.out"
      ],
      "metadata": {
        "colab": {
          "base_uri": "https://localhost:8080/"
        },
        "id": "2KL_gonrv7tb",
        "outputId": "811cf6f2-a2b0-45d6-a37d-dfc53f46b2cc"
      },
      "execution_count": 32,
      "outputs": [
        {
          "output_type": "stream",
          "name": "stdout",
          "text": [
            "Enter a simple expression: a+b*c-d\n",
            "t1 := b * c\n",
            "t2 := a + 1\n",
            "t3 := 2 - d\n"
          ]
        },
        {
          "output_type": "execute_result",
          "data": {
            "text/plain": []
          },
          "metadata": {},
          "execution_count": 32
        }
      ]
    }
  ]
}